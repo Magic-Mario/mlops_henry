{
 "cells": [
  {
   "cell_type": "code",
   "execution_count": 1,
   "metadata": {},
   "outputs": [],
   "source": [
    "import pandas as pd\n",
    "from sklearn.feature_extraction.text import TfidfVectorizer\n",
    "from sklearn.metrics.pairwise import cosine_similarity\n",
    "import pickle"
   ]
  },
  {
   "cell_type": "code",
   "execution_count": 2,
   "metadata": {},
   "outputs": [],
   "source": [
    "df = pd.read_parquet('../datasets/movie_dataset.parquet')"
   ]
  },
  {
   "cell_type": "code",
   "execution_count": 3,
   "metadata": {},
   "outputs": [
    {
     "data": {
      "text/plain": [
       "(45379, 20)"
      ]
     },
     "execution_count": 3,
     "metadata": {},
     "output_type": "execute_result"
    }
   ],
   "source": [
    "df.shape"
   ]
  },
  {
   "attachments": {},
   "cell_type": "markdown",
   "metadata": {},
   "source": [
    "Para evitar catastrofes, se limitaran los datos"
   ]
  },
  {
   "cell_type": "code",
   "execution_count": 4,
   "metadata": {},
   "outputs": [],
   "source": [
    "short_df = df.sample(n=1000, random_state=42)"
   ]
  },
  {
   "cell_type": "code",
   "execution_count": 5,
   "metadata": {},
   "outputs": [],
   "source": [
    "short_df.reset_index(drop=True, inplace=True)"
   ]
  },
  {
   "cell_type": "code",
   "execution_count": 6,
   "metadata": {},
   "outputs": [
    {
     "data": {
      "text/plain": [
       "belongs_to_collection    897\n",
       "budget                     0\n",
       "genres                     0\n",
       "id                         0\n",
       "original_language          0\n",
       "overview                  18\n",
       "popularity                 0\n",
       "production_companies       0\n",
       "production_countries       0\n",
       "release_date               0\n",
       "revenue                    0\n",
       "runtime                    5\n",
       "spoken_languages           0\n",
       "status                     4\n",
       "tagline                  537\n",
       "title                      0\n",
       "vote_average               0\n",
       "vote_count                 0\n",
       "release_year               0\n",
       "return                     0\n",
       "dtype: int64"
      ]
     },
     "execution_count": 6,
     "metadata": {},
     "output_type": "execute_result"
    }
   ],
   "source": [
    "short_df.isnull().sum()"
   ]
  },
  {
   "cell_type": "code",
   "execution_count": 7,
   "metadata": {},
   "outputs": [],
   "source": [
    "short_df.dropna(subset=[\"title\", \"genres\", \"tagline\", \"overview\"], inplace=True)"
   ]
  },
  {
   "cell_type": "code",
   "execution_count": 8,
   "metadata": {},
   "outputs": [],
   "source": [
    "# Aplicar la técnica TF-IDF para representar los textos en forma numérica\n",
    "tfidf = TfidfVectorizer(stop_words=\"english\", ngram_range=(1, 2))\n",
    "tfidf_matrix = tfidf.fit_transform(short_df[\"title\"] + \" \" + str(short_df[\"genres\"]) + \" \" + short_df[\"tagline\"] + \" \" + short_df[\"overview\"])\n",
    "cosine_sim = cosine_similarity(tfidf_matrix, tfidf_matrix)"
   ]
  },
  {
   "cell_type": "code",
   "execution_count": 13,
   "metadata": {},
   "outputs": [],
   "source": [
    "with open('similarity_matrix.pickle', 'wb') as f:\n",
    "    pickle.dump(cosine_sim, f)"
   ]
  },
  {
   "cell_type": "code",
   "execution_count": 33,
   "metadata": {},
   "outputs": [],
   "source": [
    "def recommendation(title):\n",
    "    \"\"\"\n",
    "    Recibe un título de película y devuelve una lista con los 5 títulos de películas más similares.\n",
    "\n",
    "    Parámetros:\n",
    "    - title (str): Título de la película.\n",
    "\n",
    "    Retorna:\n",
    "    - list: Lista con los títulos de las 5 películas más similares.\n",
    "\n",
    "    \"\"\"\n",
    "\n",
    "    # Buscar la fila correspondiente al título de la película\n",
    "    idx = short_df.index[short_df[\"title\"].str.lower() == title.lower()].tolist()\n",
    "    if len(idx) == 0:\n",
    "        return \"Película no encontrada\"\n",
    "    else:\n",
    "        idx = idx[0]\n",
    "    \n",
    "    # Calcular la similitud de la película con todas las demás películas\n",
    "    sim_scores = list(enumerate(cosine_sim[idx]))\n",
    "    \n",
    "    # Ordenar las películas según su similitud y seleccionar las 5 más similares\n",
    "    sim_scores = sorted(sim_scores, key=lambda x: x[1], reverse=True)[1:6]\n",
    "    \n",
    "    # Obtener los índices de las películas recomendadas\n",
    "    movie_indices = [i[0] for i in sim_scores]\n",
    "    \n",
    "    # Devolver los títulos de las películas recomendadas\n",
    "    return list(short_df[\"title\"].iloc[movie_indices])"
   ]
  },
  {
   "cell_type": "code",
   "execution_count": 18,
   "metadata": {},
   "outputs": [
    {
     "data": {
      "text/plain": [
       "0              Extraction\n",
       "2           The Glass Key\n",
       "3       The Sunshine Boys\n",
       "4                No Mercy\n",
       "6                    Push\n",
       "              ...        \n",
       "992             Wild Hogs\n",
       "993                Choose\n",
       "995    The Pick-up Artist\n",
       "996              Sky High\n",
       "999               Ed Wood\n",
       "Name: title, Length: 463, dtype: object"
      ]
     },
     "execution_count": 18,
     "metadata": {},
     "output_type": "execute_result"
    }
   ],
   "source": [
    "short_df['title']"
   ]
  },
  {
   "cell_type": "code",
   "execution_count": 38,
   "metadata": {},
   "outputs": [
    {
     "data": {
      "text/plain": [
       "['One A.M.', 'Lovers and Liars', 'Premam', \"Hell's Highway\", 'So Big!']"
      ]
     },
     "execution_count": 38,
     "metadata": {},
     "output_type": "execute_result"
    }
   ],
   "source": [
    "recommendation('Push')"
   ]
  },
  {
   "cell_type": "code",
   "execution_count": 39,
   "metadata": {},
   "outputs": [
    {
     "data": {
      "text/html": [
       "<div>\n",
       "<style scoped>\n",
       "    .dataframe tbody tr th:only-of-type {\n",
       "        vertical-align: middle;\n",
       "    }\n",
       "\n",
       "    .dataframe tbody tr th {\n",
       "        vertical-align: top;\n",
       "    }\n",
       "\n",
       "    .dataframe thead th {\n",
       "        text-align: right;\n",
       "    }\n",
       "</style>\n",
       "<table border=\"1\" class=\"dataframe\">\n",
       "  <thead>\n",
       "    <tr style=\"text-align: right;\">\n",
       "      <th></th>\n",
       "      <th>belongs_to_collection</th>\n",
       "      <th>budget</th>\n",
       "      <th>genres</th>\n",
       "      <th>id</th>\n",
       "      <th>original_language</th>\n",
       "      <th>overview</th>\n",
       "      <th>popularity</th>\n",
       "      <th>production_companies</th>\n",
       "      <th>production_countries</th>\n",
       "      <th>release_date</th>\n",
       "      <th>revenue</th>\n",
       "      <th>runtime</th>\n",
       "      <th>spoken_languages</th>\n",
       "      <th>status</th>\n",
       "      <th>tagline</th>\n",
       "      <th>title</th>\n",
       "      <th>vote_average</th>\n",
       "      <th>vote_count</th>\n",
       "      <th>release_year</th>\n",
       "      <th>return</th>\n",
       "    </tr>\n",
       "  </thead>\n",
       "  <tbody>\n",
       "    <tr>\n",
       "      <th>6</th>\n",
       "      <td>None</td>\n",
       "      <td>38000000.0</td>\n",
       "      <td>[Action]</td>\n",
       "      <td>13455</td>\n",
       "      <td>en</td>\n",
       "      <td>After his father, an assassin, is brutally mur...</td>\n",
       "      <td>11.596222</td>\n",
       "      <td>[Icon Productions, Infinity Features Entertain...</td>\n",
       "      <td>[United States of America, Canada]</td>\n",
       "      <td>2009-02-06</td>\n",
       "      <td>45465299.0</td>\n",
       "      <td>111.0</td>\n",
       "      <td>[English]</td>\n",
       "      <td>Released</td>\n",
       "      <td>One push can change everything.</td>\n",
       "      <td>Push</td>\n",
       "      <td>5.9</td>\n",
       "      <td>671.0</td>\n",
       "      <td>2009</td>\n",
       "      <td>1.196455</td>\n",
       "    </tr>\n",
       "  </tbody>\n",
       "</table>\n",
       "</div>"
      ],
      "text/plain": [
       "  belongs_to_collection      budget    genres     id original_language  \\\n",
       "6                  None  38000000.0  [Action]  13455                en   \n",
       "\n",
       "                                            overview  popularity  \\\n",
       "6  After his father, an assassin, is brutally mur...   11.596222   \n",
       "\n",
       "                                production_companies  \\\n",
       "6  [Icon Productions, Infinity Features Entertain...   \n",
       "\n",
       "                 production_countries release_date     revenue  runtime  \\\n",
       "6  [United States of America, Canada]   2009-02-06  45465299.0    111.0   \n",
       "\n",
       "  spoken_languages    status                          tagline title  \\\n",
       "6        [English]  Released  One push can change everything.  Push   \n",
       "\n",
       "   vote_average  vote_count  release_year    return  \n",
       "6           5.9       671.0          2009  1.196455  "
      ]
     },
     "execution_count": 39,
     "metadata": {},
     "output_type": "execute_result"
    }
   ],
   "source": [
    "short_df.loc[short_df['title'] == 'Push']"
   ]
  },
  {
   "cell_type": "code",
   "execution_count": 40,
   "metadata": {},
   "outputs": [
    {
     "data": {
      "text/html": [
       "<div>\n",
       "<style scoped>\n",
       "    .dataframe tbody tr th:only-of-type {\n",
       "        vertical-align: middle;\n",
       "    }\n",
       "\n",
       "    .dataframe tbody tr th {\n",
       "        vertical-align: top;\n",
       "    }\n",
       "\n",
       "    .dataframe thead th {\n",
       "        text-align: right;\n",
       "    }\n",
       "</style>\n",
       "<table border=\"1\" class=\"dataframe\">\n",
       "  <thead>\n",
       "    <tr style=\"text-align: right;\">\n",
       "      <th></th>\n",
       "      <th>belongs_to_collection</th>\n",
       "      <th>budget</th>\n",
       "      <th>genres</th>\n",
       "      <th>id</th>\n",
       "      <th>original_language</th>\n",
       "      <th>overview</th>\n",
       "      <th>popularity</th>\n",
       "      <th>production_companies</th>\n",
       "      <th>production_countries</th>\n",
       "      <th>release_date</th>\n",
       "      <th>revenue</th>\n",
       "      <th>runtime</th>\n",
       "      <th>spoken_languages</th>\n",
       "      <th>status</th>\n",
       "      <th>tagline</th>\n",
       "      <th>title</th>\n",
       "      <th>vote_average</th>\n",
       "      <th>vote_count</th>\n",
       "      <th>release_year</th>\n",
       "      <th>return</th>\n",
       "    </tr>\n",
       "  </thead>\n",
       "  <tbody>\n",
       "    <tr>\n",
       "      <th>50</th>\n",
       "      <td>None</td>\n",
       "      <td>0.0</td>\n",
       "      <td>[Comedy]</td>\n",
       "      <td>53418</td>\n",
       "      <td>en</td>\n",
       "      <td>A drunken homeowner has a difficult time getti...</td>\n",
       "      <td>1.472505</td>\n",
       "      <td>[Lone Star Corporation]</td>\n",
       "      <td>[United States of America]</td>\n",
       "      <td>1916-08-07</td>\n",
       "      <td>0.0</td>\n",
       "      <td>22.0</td>\n",
       "      <td>[English]</td>\n",
       "      <td>Released</td>\n",
       "      <td>An inspiring and fantastic one-man show!</td>\n",
       "      <td>One A.M.</td>\n",
       "      <td>6.3</td>\n",
       "      <td>17.0</td>\n",
       "      <td>1916</td>\n",
       "      <td>0.0</td>\n",
       "    </tr>\n",
       "  </tbody>\n",
       "</table>\n",
       "</div>"
      ],
      "text/plain": [
       "   belongs_to_collection  budget    genres     id original_language  \\\n",
       "50                  None     0.0  [Comedy]  53418                en   \n",
       "\n",
       "                                             overview  popularity  \\\n",
       "50  A drunken homeowner has a difficult time getti...    1.472505   \n",
       "\n",
       "       production_companies        production_countries release_date  revenue  \\\n",
       "50  [Lone Star Corporation]  [United States of America]   1916-08-07      0.0   \n",
       "\n",
       "    runtime spoken_languages    status  \\\n",
       "50     22.0        [English]  Released   \n",
       "\n",
       "                                     tagline     title  vote_average  \\\n",
       "50  An inspiring and fantastic one-man show!  One A.M.           6.3   \n",
       "\n",
       "    vote_count  release_year  return  \n",
       "50        17.0          1916     0.0  "
      ]
     },
     "execution_count": 40,
     "metadata": {},
     "output_type": "execute_result"
    }
   ],
   "source": [
    "short_df.loc[short_df['title'] == 'One A.M.']"
   ]
  },
  {
   "attachments": {},
   "cell_type": "markdown",
   "metadata": {},
   "source": [
    "Bueno, al menos recomienda"
   ]
  },
  {
   "cell_type": "code",
   "execution_count": 41,
   "metadata": {},
   "outputs": [],
   "source": [
    "short_df.to_parquet('../datasets/short_df.parquet', index=False)"
   ]
  }
 ],
 "metadata": {
  "kernelspec": {
   "display_name": "venv",
   "language": "python",
   "name": "python3"
  },
  "language_info": {
   "codemirror_mode": {
    "name": "ipython",
    "version": 3
   },
   "file_extension": ".py",
   "mimetype": "text/x-python",
   "name": "python",
   "nbconvert_exporter": "python",
   "pygments_lexer": "ipython3",
   "version": "3.10.11"
  },
  "orig_nbformat": 4
 },
 "nbformat": 4,
 "nbformat_minor": 2
}
