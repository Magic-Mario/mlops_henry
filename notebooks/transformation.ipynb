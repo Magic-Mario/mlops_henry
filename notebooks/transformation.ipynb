{
 "cells": [
  {
   "cell_type": "code",
   "execution_count": null,
   "metadata": {},
   "outputs": [],
   "source": [
    "import pandas as pd\n",
    "import numpy as np"
   ]
  },
  {
   "cell_type": "code",
   "execution_count": null,
   "metadata": {},
   "outputs": [],
   "source": [
    "movies_df = pd.read_csv('../datasets/movies_dataset.csv', low_memory=False)"
   ]
  },
  {
   "attachments": {},
   "cell_type": "markdown",
   "metadata": {},
   "source": [
    "Observamos una apariencia general de nuestros datos"
   ]
  },
  {
   "cell_type": "code",
   "execution_count": null,
   "metadata": {},
   "outputs": [],
   "source": [
    "movies_df"
   ]
  },
  {
   "attachments": {},
   "cell_type": "markdown",
   "metadata": {},
   "source": [
    "<h2>TRANFORMACIONES</h2>"
   ]
  },
  {
   "attachments": {},
   "cell_type": "markdown",
   "metadata": {},
   "source": [
    "1. Algunos campos, como belongs_to_collection, production_companies y otros (ver diccionario de datos) están anidados, esto es o bien tienen un diccionario o una lista como valores en cada fila, ¡deberán desanidarlos para poder y unirlos al dataset de nuevo hacer alguna de las consultas de la API! O bien buscar la manera de acceder a esos datos sin desanidarlos.\n",
    "2. Los valores nulos de los campos revenue, budget deben ser rellenados por el número 0.\n",
    "3. Los valores nulos del campo release date deben eliminarse.\n",
    "4. De haber fechas, deberán tener el formato AAAA-mm-dd, además deberán crear la columna release_year donde extraerán el año de la fecha de estreno.\n",
    "5. Crear la columna con el retorno de inversión, llamada return con los campos revenue y budget, dividiendo estas dos últimas revenue / budget, cuando no hay datos disponibles para calcularlo, deberá tomar el valor 0.\n",
    "6. Eliminar las columnas que no serán utilizadas, video,imdb_id,adult,original_title,poster_path y homepage."
   ]
  },
  {
   "attachments": {},
   "cell_type": "markdown",
   "metadata": {},
   "source": [
    "<H3>APLICANDO TRANSFORMACIONES</H3>"
   ]
  },
  {
   "attachments": {},
   "cell_type": "markdown",
   "metadata": {},
   "source": [
    "6. Eliminar las columnas que no serán utilizadas, video,imdb_id,adult,original_title,poster_path y homepage."
   ]
  },
  {
   "cell_type": "code",
   "execution_count": null,
   "metadata": {},
   "outputs": [],
   "source": [
    "movies_df = movies_df.drop(columns=['video', 'imdb_id', 'adult', 'original_title', 'poster_path', 'homepage']).copy()"
   ]
  },
  {
   "attachments": {},
   "cell_type": "markdown",
   "metadata": {},
   "source": [
    "1. Algunos campos, como belongs_to_collection, production_companies y otros (ver diccionario de datos) están anidados, esto es o bien tienen un diccionario o una lista como valores en cada fila, ¡deberán desanidarlos para poder y unirlos al dataset de nuevo hacer alguna de las consultas de la API! O bien buscar la manera de acceder a esos datos sin desanidarlos."
   ]
  },
  {
   "cell_type": "code",
   "execution_count": null,
   "metadata": {},
   "outputs": [],
   "source": [
    "\n",
    "#* Diccionario\n",
    "display(movies_df.loc[movies_df.belongs_to_collection.index[0]][0])\n",
    "#* Listas de diccionarios\n",
    "display(movies_df.loc[movies_df.belongs_to_collection.index[0]][2])"
   ]
  },
  {
   "attachments": {},
   "cell_type": "markdown",
   "metadata": {},
   "source": [
    "Encontramos la particularidad que en las columnas anidadas hay datos de tipo string con formato de diccionario y strings con formatos de tipo lista con diccionarios dentro"
   ]
  },
  {
   "cell_type": "code",
   "execution_count": null,
   "metadata": {},
   "outputs": [],
   "source": [
    "movies_df.head()"
   ]
  },
  {
   "attachments": {},
   "cell_type": "markdown",
   "metadata": {},
   "source": [
    "Columnas con datos anidados:\n",
    "- belongs_to_collection [Dict]\n",
    "- genres [List]\n",
    "- production_companies [List]\n",
    "- production_countries [List]\n",
    "- spoken_languages [List]\n"
   ]
  },
  {
   "attachments": {},
   "cell_type": "markdown",
   "metadata": {},
   "source": [
    "Para evitar problemas con la conversion de datos de tipo str a tipo dict o problemas con las listas y el tipo de dato. Se ha decidido utilizar expresiones regulares para encontrar la informacion relevante dentro de estos registros y solo mostrar estos"
   ]
  },
  {
   "cell_type": "code",
   "execution_count": null,
   "metadata": {},
   "outputs": [],
   "source": [
    "import re\n",
    "\n",
    "def parse_data(df, column):\n",
    "    \"\"\"\n",
    "    Extrae los valores de una cadena, lista o diccionario en una columna específica de un DataFrame.\n",
    "    \n",
    "    Args:\n",
    "        df (DataFrame): DataFrame en el que se encuentra la columna a procesar.\n",
    "        column (str): Nombre de la columna a procesar.\n",
    "    \n",
    "    Returns:\n",
    "        DataFrame: DataFrame con la columna modificada, donde se han extraído los valores.\n",
    "    \"\"\"\n",
    "    def extract_values(value):\n",
    "        \"\"\"\n",
    "        Extrae los valores de una cadena, lista o diccionario.\n",
    "        \n",
    "        Args:\n",
    "            value: Valor a procesar.\n",
    "        \n",
    "        Returns:\n",
    "            list or str or None: Valores extraídos.\n",
    "        \"\"\"\n",
    "        if isinstance(value, str):\n",
    "            # Si es una cadena, extraer los valores con la expresión regular\n",
    "            pattern = r\"'name': '([^']*)'\"\n",
    "            coincidencias = re.findall(pattern, value)\n",
    "            return coincidencias\n",
    "        elif isinstance(value, list):\n",
    "            # Si es una lista, extraer los valores de cada elemento de la lista\n",
    "            values = []\n",
    "            for i in value:\n",
    "                if 'name' in i:\n",
    "                    values.append(i['name'])\n",
    "            return values\n",
    "        elif isinstance(value, dict):\n",
    "            # Si es un diccionario, extraer los valores de la clave 'name'\n",
    "            if 'name' in value:\n",
    "                return value['name']\n",
    "        return None\n",
    "    \n",
    "    # Aplicar la función a la columna y sobrescribir la columna\n",
    "    df[column] = df[column].apply(extract_values)\n",
    "    \n",
    "    return df\n"
   ]
  },
  {
   "cell_type": "code",
   "execution_count": null,
   "metadata": {},
   "outputs": [],
   "source": [
    "parse_data(movies_df, 'production_countries')\n",
    "parse_data(movies_df, 'production_companies')\n",
    "parse_data(movies_df, 'belongs_to_collection')\n",
    "parse_data(movies_df, 'genres')\n",
    "parse_data(movies_df, 'spoken_languages')"
   ]
  },
  {
   "cell_type": "code",
   "execution_count": null,
   "metadata": {},
   "outputs": [],
   "source": [
    "movies_df.columns"
   ]
  },
  {
   "attachments": {},
   "cell_type": "markdown",
   "metadata": {},
   "source": [
    "2.Los valores nulos de los campos revenue, budget deben ser rellenados por el número 0."
   ]
  },
  {
   "cell_type": "code",
   "execution_count": null,
   "metadata": {},
   "outputs": [],
   "source": [
    "movies_df[['revenue', 'budget']] = movies_df[['revenue', 'budget']].fillna(0)   "
   ]
  },
  {
   "cell_type": "code",
   "execution_count": null,
   "metadata": {},
   "outputs": [],
   "source": [
    "movies_df[['revenue', 'budget']].isna().sum()"
   ]
  },
  {
   "attachments": {},
   "cell_type": "markdown",
   "metadata": {},
   "source": [
    "3. Eliminar registros con fechas nulas"
   ]
  },
  {
   "cell_type": "code",
   "execution_count": null,
   "metadata": {},
   "outputs": [],
   "source": [
    "movies_df.release_date.isna().sum()"
   ]
  },
  {
   "attachments": {},
   "cell_type": "markdown",
   "metadata": {},
   "source": [
    "Eliminamos los 87 valores nulos como son pedidos"
   ]
  },
  {
   "cell_type": "code",
   "execution_count": null,
   "metadata": {},
   "outputs": [],
   "source": [
    "movies_df.dropna(subset=['release_date'], inplace=True)"
   ]
  },
  {
   "attachments": {},
   "cell_type": "markdown",
   "metadata": {},
   "source": [
    "Volvemos a comprobar"
   ]
  },
  {
   "cell_type": "code",
   "execution_count": null,
   "metadata": {},
   "outputs": [],
   "source": [
    "movies_df['release_date'].isna().sum()"
   ]
  },
  {
   "attachments": {},
   "cell_type": "markdown",
   "metadata": {},
   "source": [
    "4. De haber fechas, deberán tener el formato AAAA-mm-dd, además deberán crear la columna release_year donde extraerán el año de la fecha de estreno."
   ]
  },
  {
   "cell_type": "code",
   "execution_count": null,
   "metadata": {},
   "outputs": [],
   "source": [
    "movies_df['release_date'] = pd.to_datetime(movies_df['release_date'], format='%Y-%m-%d', errors='coerce')\n",
    "movies_df['release_year'] = movies_df['release_date'].dt.year.fillna(0).astype(int)"
   ]
  },
  {
   "attachments": {},
   "cell_type": "markdown",
   "metadata": {},
   "source": [
    "5. Crear la columna con el retorno de inversión, llamada return con los campos revenue y budget, dividiendo estas dos últimas revenue / budget, cuando no hay datos disponibles para calcularlo, deberá tomar el valor 0."
   ]
  },
  {
   "cell_type": "code",
   "execution_count": null,
   "metadata": {},
   "outputs": [],
   "source": [
    "movies_df.dtypes"
   ]
  },
  {
   "attachments": {},
   "cell_type": "markdown",
   "metadata": {},
   "source": [
    "Como podemos observar en la columna anterior; el dtype de budget y revenue es object y float respectivamente, lo cual no nos permite hacer el calculo aritmentico solicitado."
   ]
  },
  {
   "cell_type": "code",
   "execution_count": null,
   "metadata": {},
   "outputs": [],
   "source": [
    "# Convierte las columnas 'budget' y 'revenue' a numéricas para poder crear la columna solicitada\n",
    "movies_df['budget'] = pd.to_numeric(movies_df['budget'], errors='coerce')\n",
    "movies_df['revenue'] = pd.to_numeric(movies_df['revenue'], errors='coerce')\n",
    "\n",
    "#* Se transforma tambien esta columna para ahorrar el trabajo de hacerlo despues\n",
    "movies_df['popularity'] = pd.to_numeric(movies_df['popularity'], errors='coerce')\n",
    "#Creamos la nueva columna return\n",
    "movies_df['return'] = movies_df['revenue'] / movies_df['budget']\n",
    "movies_df['return'] = movies_df['return'].fillna(0)"
   ]
  },
  {
   "cell_type": "code",
   "execution_count": null,
   "metadata": {},
   "outputs": [],
   "source": [
    "movies_df.info()"
   ]
  },
  {
   "attachments": {},
   "cell_type": "markdown",
   "metadata": {},
   "source": [
    "Los datasets fueron transformados a formato *Parquet* para reducir su peso y su velocidad de analisis. "
   ]
  },
  {
   "cell_type": "code",
   "execution_count": null,
   "metadata": {},
   "outputs": [],
   "source": [
    "import pyarrow as pa\n",
    "import pyarrow.parquet as pq\n",
    "\n",
    "credits_df = pd.read_csv('../datasets/credits.csv')\n",
    "\n",
    "# Especificar la ruta y nombre de archivo para el archivo Parquet de salida\n",
    "output_movies = 'movie_dataset.parquet'\n",
    "output_credits = 'credits.parquet'\n",
    "# Convertir el DataFrame de pandas a una tabla de PyArrow\n",
    "table_movies = pa.Table.from_pandas(movies_df)\n",
    "table_credits = pa.Table.from_pandas(credits_df)\n",
    "# Escribir la tabla en formato Parquet\n",
    "pq.write_table(table_movies, output_movies)\n",
    "pq.write_table(table_credits, output_credits)"
   ]
  },
  {
   "attachments": {},
   "cell_type": "markdown",
   "metadata": {},
   "source": [
    "Transformacion del dataset de creditos."
   ]
  },
  {
   "cell_type": "code",
   "execution_count": null,
   "metadata": {},
   "outputs": [],
   "source": [
    "df_credits = pd.read_parquet('../datasets/credits.parquet')"
   ]
  },
  {
   "cell_type": "code",
   "execution_count": null,
   "metadata": {},
   "outputs": [],
   "source": [
    "import re\n",
    "\n",
    "\n",
    "def extract_credits_data(df, column):\n",
    "    def extract_values(value):\n",
    "        if isinstance(value, str):\n",
    "            # Si es una cadena, extraer los valores con la expresión regular\n",
    "            pattern = r\"'name': '([^']*)'\"\n",
    "            match = re.findall(pattern, value)\n",
    "            return match\n",
    "        elif isinstance(value, list):\n",
    "            # Si es una lista, extraer los valores de cada elemento de la lista\n",
    "            values = []\n",
    "            for i in value:\n",
    "                if 'name' in i:\n",
    "                    values.append(i['name'])\n",
    "            return values\n",
    "        elif isinstance(value, dict):\n",
    "            # Si es un diccionario, extraer los valores de la clave 'name'\n",
    "            if 'name' in value:\n",
    "                return value['name']\n",
    "        return None\n",
    "    \n",
    "    # Aplicar la función a la columna y sobrescribir la columna\n",
    "    df[column] = df[column].apply(extract_values)\n",
    "    \n",
    "    return df"
   ]
  },
  {
   "cell_type": "code",
   "execution_count": null,
   "metadata": {},
   "outputs": [],
   "source": [
    "extract_credits_data(df_credits, 'cast')\n",
    "extract_credits_data(df_credits, 'crew')"
   ]
  },
  {
   "cell_type": "code",
   "execution_count": 10,
   "metadata": {},
   "outputs": [
    {
     "data": {
      "text/html": [
       "<div>\n",
       "<style scoped>\n",
       "    .dataframe tbody tr th:only-of-type {\n",
       "        vertical-align: middle;\n",
       "    }\n",
       "\n",
       "    .dataframe tbody tr th {\n",
       "        vertical-align: top;\n",
       "    }\n",
       "\n",
       "    .dataframe thead th {\n",
       "        text-align: right;\n",
       "    }\n",
       "</style>\n",
       "<table border=\"1\" class=\"dataframe\">\n",
       "  <thead>\n",
       "    <tr style=\"text-align: right;\">\n",
       "      <th></th>\n",
       "      <th>cast</th>\n",
       "      <th>crew</th>\n",
       "      <th>id</th>\n",
       "    </tr>\n",
       "  </thead>\n",
       "  <tbody>\n",
       "    <tr>\n",
       "      <th>0</th>\n",
       "      <td>[Tom Hanks, Tim Allen, Don Rickles, Jim Varney...</td>\n",
       "      <td>[John Lasseter, Joss Whedon, Andrew Stanton, J...</td>\n",
       "      <td>862</td>\n",
       "    </tr>\n",
       "    <tr>\n",
       "      <th>1</th>\n",
       "      <td>[Robin Williams, Jonathan Hyde, Kirsten Dunst,...</td>\n",
       "      <td>[Larry J. Franco, Jonathan Hensleigh, James Ho...</td>\n",
       "      <td>8844</td>\n",
       "    </tr>\n",
       "    <tr>\n",
       "      <th>2</th>\n",
       "      <td>[Walter Matthau, Jack Lemmon, Ann-Margret, Sop...</td>\n",
       "      <td>[Howard Deutch, Mark Steven Johnson, Mark Stev...</td>\n",
       "      <td>15602</td>\n",
       "    </tr>\n",
       "    <tr>\n",
       "      <th>3</th>\n",
       "      <td>[Whitney Houston, Angela Bassett, Loretta Devi...</td>\n",
       "      <td>[Forest Whitaker, Ronald Bass, Ronald Bass, Ez...</td>\n",
       "      <td>31357</td>\n",
       "    </tr>\n",
       "    <tr>\n",
       "      <th>4</th>\n",
       "      <td>[Steve Martin, Diane Keaton, Martin Short, Kim...</td>\n",
       "      <td>[Alan Silvestri, Elliot Davis, Nancy Meyers, N...</td>\n",
       "      <td>11862</td>\n",
       "    </tr>\n",
       "  </tbody>\n",
       "</table>\n",
       "</div>"
      ],
      "text/plain": [
       "                                                cast  \\\n",
       "0  [Tom Hanks, Tim Allen, Don Rickles, Jim Varney...   \n",
       "1  [Robin Williams, Jonathan Hyde, Kirsten Dunst,...   \n",
       "2  [Walter Matthau, Jack Lemmon, Ann-Margret, Sop...   \n",
       "3  [Whitney Houston, Angela Bassett, Loretta Devi...   \n",
       "4  [Steve Martin, Diane Keaton, Martin Short, Kim...   \n",
       "\n",
       "                                                crew     id  \n",
       "0  [John Lasseter, Joss Whedon, Andrew Stanton, J...    862  \n",
       "1  [Larry J. Franco, Jonathan Hensleigh, James Ho...   8844  \n",
       "2  [Howard Deutch, Mark Steven Johnson, Mark Stev...  15602  \n",
       "3  [Forest Whitaker, Ronald Bass, Ronald Bass, Ez...  31357  \n",
       "4  [Alan Silvestri, Elliot Davis, Nancy Meyers, N...  11862  "
      ]
     },
     "execution_count": 10,
     "metadata": {},
     "output_type": "execute_result"
    }
   ],
   "source": [
    "df_credits.head()"
   ]
  },
  {
   "attachments": {},
   "cell_type": "markdown",
   "metadata": {},
   "source": [
    "Transformar el dataframe devuelta a parquet"
   ]
  },
  {
   "cell_type": "code",
   "execution_count": 11,
   "metadata": {},
   "outputs": [],
   "source": [
    "df_credits.to_parquet('../datasets/credits.parquet', index=False)"
   ]
  }
 ],
 "metadata": {
  "kernelspec": {
   "display_name": "venv",
   "language": "python",
   "name": "python3"
  },
  "language_info": {
   "codemirror_mode": {
    "name": "ipython",
    "version": 3
   },
   "file_extension": ".py",
   "mimetype": "text/x-python",
   "name": "python",
   "nbconvert_exporter": "python",
   "pygments_lexer": "ipython3",
   "version": "3.10.11"
  },
  "orig_nbformat": 4
 },
 "nbformat": 4,
 "nbformat_minor": 2
}
