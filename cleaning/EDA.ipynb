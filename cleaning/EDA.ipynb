{
 "cells": [
  {
   "cell_type": "markdown",
   "metadata": {},
   "source": [
    "### Imports"
   ]
  },
  {
   "cell_type": "code",
   "execution_count": 2,
   "metadata": {
    "tags": []
   },
   "outputs": [],
   "source": [
    "import pandas as pd\n",
    "import numpy as np\n",
    "import matplotlib.pyplot as plt\n",
    "import seaborn as sns"
   ]
  },
  {
   "cell_type": "markdown",
   "metadata": {},
   "source": [
    "La lectura de datos y el cumplimiento de las especificaciones son procesos importantes para procesar y manipular datos de manera efectiva. Es necesario asegurarse de que los datos se leen correctamente y se cumplen las especificaciones requeridas, ya sea en términos de formato, estructura, contenido, calidad y otros aspectos relevantes."
   ]
  },
  {
   "cell_type": "code",
   "execution_count": 3,
   "metadata": {
    "tags": []
   },
   "outputs": [],
   "source": [
    "amazon_prime = pd.read_parquet('../datasets/amazon_prime_titles.parquet')\n",
    "disney_plus = pd.read_parquet('../datasets/disney_plus_titles.parquet')\n",
    "hulu = pd.read_parquet('../datasets/hulu_titles.parquet')\n",
    "netflix = pd.read_parquet('../datasets/netflix_titles.parquet')\n",
    "\n",
    "\n",
    "rating_df = pd.read_parquet('../datasets/rating_total.parquet')\n",
    "\n",
    "def generate_id(df, platform_name):\n",
    "    \"\"\"\n",
    "    Genera un ID combinando la primera letra del nombre de la plataforma y el número de show_id\n",
    "    \n",
    "    Argumentos:\n",
    "    df -- DataFrame de entrada\n",
    "    platform_name -- str: nombre de la plataforma de streaming\n",
    "\n",
    "    Devuelve:\n",
    "    str -- ID generado\n",
    "    \"\"\"\n",
    "    show_id = df[\"show_id\"]\n",
    "    return platform_name[0] + str(show_id)\n",
    "\n",
    "def create_id_column(df, platform_name, generate_id_func):\n",
    "    \"\"\"\n",
    "    Crea una columna 'movieId' en el DataFrame que contiene los IDs generados\n",
    "    \n",
    "    Argumentos:\n",
    "    df -- DataFrame de entrada\n",
    "    platform_name -- str: nombre de la plataforma de streaming\n",
    "    generate_id_func -- función que genera el ID utilizando el DataFrame y el nombre de la plataforma\n",
    "    \n",
    "    Devuelve:\n",
    "    df -- DataFrame con una columna 'movieId' que contiene los IDs generados\n",
    "    \"\"\"\n",
    "    df[\"movieId\"] = df.apply(generate_id_func, args=(platform_name,), axis=1)\n",
    "    pop_id = df.pop('movieId')\n",
    "    df.insert(0, \"movieId\", pop_id)\n",
    "    df.drop(columns=[\"show_id\"], inplace=True)\n",
    "\n",
    "\n",
    "def cleaning_rows(df):\n",
    "    \"\"\"\n",
    "    Limpia los valores de las celdas de un DataFrame eliminando los espacios en blanco y convirtiendo\n",
    "    todos los caracteres a minúsculas.\n",
    "\n",
    "    Parameters:\n",
    "    -----------\n",
    "    df : pandas.DataFrame\n",
    "        DataFrame a limpiar.\n",
    "\n",
    "    Returns:\n",
    "    --------\n",
    "    pandas.DataFrame\n",
    "        DataFrame con los valores de las celdas limpios.\n",
    "    \"\"\"\n",
    "    df = df.applymap(lambda x: x.strip().lower() if isinstance(x, str) else x)\n",
    "    df = df.rename(columns={\"rating\": \"classification\"})\n",
    "    return df\n",
    "\n",
    "\n",
    "def fill_na(df):\n",
    "    \"\"\"\n",
    "    Rellena valores NaN en la columna 'rating' con el valor 'G'\n",
    "\n",
    "    Argumentos:\n",
    "    df -- DataFrame de entrada\n",
    "\n",
    "    Devuelve:\n",
    "    df -- DataFrame con valores NaN en la columna 'rating' rellenados con 'G'\n",
    "    \"\"\"\n",
    "    df[\"rating\"].fillna(value=\"G\", inplace=True)\n",
    "\n",
    "\n",
    "def format_dates(df):\n",
    "    \"\"\"\n",
    "    Formatea las fechas en el formato 'YYYY-MM-DD'\n",
    "\n",
    "    Argumentos:\n",
    "    df -- DataFrame de entrada\n",
    "\n",
    "    Devuelve:\n",
    "    df -- DataFrame con fechas formateadas en el formato 'YYYY-MM-DD'\n",
    "    \"\"\"\n",
    "    df = df.applymap(lambda x: x.strip().lower() if isinstance(x, str) else x)\n",
    "    df[\"date_added\"] = pd.to_datetime(df[\"date_added\"]).dt.strftime(\"%Y-%m-%d\")\n",
    "    return df\n",
    "\n",
    "\n",
    "def duration_distrib(df):\n",
    "    \"\"\"\n",
    "    Divide la columna 'duration' en dos columnas 'duration_int' y 'duration_type'\n",
    "\n",
    "    Argumentos:\n",
    "    df -- DataFrame de entrada\n",
    "\n",
    "    Devuelve:\n",
    "    df -- DataFrame con dos columnas adicionales 'duration_int' y 'duration_type'\n",
    "    \"\"\"\n",
    "\n",
    "\n",
    "    df[[\"duration_int\", \"duration_type\"]] = df[\"duration\"].str.split(expand=True)\n",
    "    df[\"duration_int\"] = df[\"duration_int\"].astype(float).astype(\"Int64\")\n",
    "    df.drop(columns=\"duration\", inplace=True)\n",
    "    return df\n",
    "\n",
    "\n",
    "def main(df, platform_name):\n",
    "    \"\"\"\n",
    "    Limpia y transforma un DataFrame dado utilizando las funciones cleaning_rows, create_id_column,\n",
    "    fill_na, format_dates y duration_distrib.\n",
    "    \n",
    "    Argumentos:\n",
    "    df -- DataFrame de entrada\n",
    "    platform_name -- str: nombre de la plataforma de streaming\n",
    "    \n",
    "    Devuelve:\n",
    "    DataFrame -- DataFrame con las transformaciones aplicadas.\n",
    "    \"\"\"\n",
    "    \n",
    "    \n",
    "    create_id_column(df, platform_name, generate_id)\n",
    "    fill_na(df)\n",
    "    format_dates(df)\n",
    "    duration_distrib(df)\n",
    "    return cleaning_rows(df)\n"
   ]
  },
  {
   "cell_type": "markdown",
   "metadata": {},
   "source": [
    "Aplicando las funciones de limpieza a todos los DataFrames"
   ]
  },
  {
   "cell_type": "code",
   "execution_count": 4,
   "metadata": {
    "tags": []
   },
   "outputs": [
    {
     "name": "stderr",
     "output_type": "stream",
     "text": [
      "C:\\Users\\mario\\AppData\\Local\\Temp\\ipykernel_8396\\2437703307.py:85: UserWarning: Could not infer format, so each element will be parsed individually, falling back to `dateutil`. To ensure parsing is consistent and as-expected, please specify a format.\n",
      "  df[\"date_added\"] = pd.to_datetime(df[\"date_added\"]).dt.strftime(\"%Y-%m-%d\")\n",
      "C:\\Users\\mario\\AppData\\Local\\Temp\\ipykernel_8396\\2437703307.py:85: UserWarning: Could not infer format, so each element will be parsed individually, falling back to `dateutil`. To ensure parsing is consistent and as-expected, please specify a format.\n",
      "  df[\"date_added\"] = pd.to_datetime(df[\"date_added\"]).dt.strftime(\"%Y-%m-%d\")\n",
      "C:\\Users\\mario\\AppData\\Local\\Temp\\ipykernel_8396\\2437703307.py:85: UserWarning: Could not infer format, so each element will be parsed individually, falling back to `dateutil`. To ensure parsing is consistent and as-expected, please specify a format.\n",
      "  df[\"date_added\"] = pd.to_datetime(df[\"date_added\"]).dt.strftime(\"%Y-%m-%d\")\n",
      "C:\\Users\\mario\\AppData\\Local\\Temp\\ipykernel_8396\\2437703307.py:85: UserWarning: Could not infer format, so each element will be parsed individually, falling back to `dateutil`. To ensure parsing is consistent and as-expected, please specify a format.\n",
      "  df[\"date_added\"] = pd.to_datetime(df[\"date_added\"]).dt.strftime(\"%Y-%m-%d\")\n"
     ]
    }
   ],
   "source": [
    "amazon_prime = main(amazon_prime, \"amazon_prime\")\n",
    "disney_plus = main(disney_plus, \"disney_plus\")\n",
    "hulu = main(hulu, \"hulu\")\n",
    "netflix = main(netflix, \"netflix\")\n",
    "rating_df = rating_df.applymap(lambda x: x.strip().lower() if isinstance(x, str) else x)"
   ]
  },
  {
   "cell_type": "markdown",
   "metadata": {},
   "source": [
    "Vamos a combinar la información de los DataFrames limpios con el DataFrame de Rating utilizando la columna \"movieId\" como clave común."
   ]
  },
  {
   "cell_type": "code",
   "execution_count": 5,
   "metadata": {
    "tags": []
   },
   "outputs": [],
   "source": [
    "\n",
    "list_df = [amazon_prime, hulu, netflix, disney_plus]\n",
    "list_df_merged = [pd.merge(df, rating_df, on='movieId', how='inner', sort=False) for df in list_df]\n",
    "df_dict = dict(\n",
    "    zip(['amazon_prime', 'hulu', 'netflix', 'disney_plus'], list_df_merged)\n",
    "    )"
   ]
  },
  {
   "cell_type": "markdown",
   "metadata": {},
   "source": [
    "\"AutoViz\" es útil para explorar rápidamente grandes conjuntos de datos. Dado que algunos DataFrames contienen más de 1 millón de registros, considero que AutoViz es la mejor opción."
   ]
  },
  {
   "cell_type": "code",
   "execution_count": 7,
   "metadata": {
    "tags": []
   },
   "outputs": [],
   "source": [
    "from autoviz.AutoViz_Class import AutoViz_Class\n",
    "AV = AutoViz_Class()"
   ]
  },
  {
   "cell_type": "markdown",
   "metadata": {},
   "source": [
    "### ANALISIS DE AMAZON PRIME"
   ]
  },
  {
   "cell_type": "code",
   "execution_count": 8,
   "metadata": {
    "tags": []
   },
   "outputs": [],
   "source": [
    "platform_data = df_dict['amazon_prime']"
   ]
  },
  {
   "cell_type": "code",
   "execution_count": 9,
   "metadata": {
    "tags": []
   },
   "outputs": [
    {
     "data": {
      "text/plain": [
       "(4631850, 16)"
      ]
     },
     "execution_count": 9,
     "metadata": {},
     "output_type": "execute_result"
    }
   ],
   "source": [
    "platform_data.shape"
   ]
  },
  {
   "cell_type": "markdown",
   "metadata": {},
   "source": [
    "Podemos ver la gran cantidad de registros disponibles en el dataframe de Amazon Prime, pero entremos mas en profundidad"
   ]
  },
  {
   "cell_type": "code",
   "execution_count": 10,
   "metadata": {
    "tags": []
   },
   "outputs": [
    {
     "name": "stdout",
     "output_type": "stream",
     "text": [
      "    Since nrows is smaller than dataset, loading random sample of 150000 rows into pandas...\n",
      "Shape of your Data Set loaded: (150000, 16)\n",
      "#######################################################################################\n",
      "######################## C L A S S I F Y I N G  V A R I A B L E S  ####################\n",
      "#######################################################################################\n",
      "Classifying variables in data set...\n",
      "Data cleaning improvement suggestions. Complete them before proceeding to ML modeling.\n"
     ]
    },
    {
     "data": {
      "text/html": [
       "<style type=\"text/css\">\n",
       "#T_eaaf1_row0_col0, #T_eaaf1_row0_col4, #T_eaaf1_row10_col2, #T_eaaf1_row10_col3, #T_eaaf1_row15_col5 {\n",
       "  background-color: #67000d;\n",
       "  color: #f1f1f1;\n",
       "  font-family: Segoe UI;\n",
       "}\n",
       "#T_eaaf1_row0_col1, #T_eaaf1_row0_col6, #T_eaaf1_row1_col1, #T_eaaf1_row1_col6, #T_eaaf1_row2_col1, #T_eaaf1_row2_col6, #T_eaaf1_row3_col1, #T_eaaf1_row3_col6, #T_eaaf1_row4_col1, #T_eaaf1_row4_col6, #T_eaaf1_row5_col1, #T_eaaf1_row5_col6, #T_eaaf1_row6_col1, #T_eaaf1_row6_col6, #T_eaaf1_row7_col1, #T_eaaf1_row7_col6, #T_eaaf1_row8_col1, #T_eaaf1_row8_col6, #T_eaaf1_row9_col1, #T_eaaf1_row9_col6, #T_eaaf1_row10_col1, #T_eaaf1_row10_col6, #T_eaaf1_row11_col1, #T_eaaf1_row11_col6, #T_eaaf1_row12_col1, #T_eaaf1_row12_col6, #T_eaaf1_row13_col1, #T_eaaf1_row13_col6, #T_eaaf1_row14_col1, #T_eaaf1_row14_col6, #T_eaaf1_row15_col1, #T_eaaf1_row15_col6 {\n",
       "  font-family: Segoe UI;\n",
       "}\n",
       "#T_eaaf1_row0_col2, #T_eaaf1_row0_col3, #T_eaaf1_row0_col5, #T_eaaf1_row1_col2, #T_eaaf1_row1_col3, #T_eaaf1_row1_col5, #T_eaaf1_row2_col2, #T_eaaf1_row2_col3, #T_eaaf1_row2_col5, #T_eaaf1_row3_col2, #T_eaaf1_row3_col3, #T_eaaf1_row3_col5, #T_eaaf1_row4_col2, #T_eaaf1_row4_col3, #T_eaaf1_row4_col5, #T_eaaf1_row5_col5, #T_eaaf1_row6_col5, #T_eaaf1_row7_col2, #T_eaaf1_row7_col3, #T_eaaf1_row7_col5, #T_eaaf1_row8_col2, #T_eaaf1_row8_col3, #T_eaaf1_row8_col5, #T_eaaf1_row9_col2, #T_eaaf1_row9_col3, #T_eaaf1_row9_col5, #T_eaaf1_row10_col5, #T_eaaf1_row11_col5, #T_eaaf1_row12_col0, #T_eaaf1_row12_col2, #T_eaaf1_row12_col3, #T_eaaf1_row12_col4, #T_eaaf1_row12_col5, #T_eaaf1_row13_col0, #T_eaaf1_row13_col2, #T_eaaf1_row13_col3, #T_eaaf1_row13_col4, #T_eaaf1_row13_col5, #T_eaaf1_row14_col0, #T_eaaf1_row14_col2, #T_eaaf1_row14_col3, #T_eaaf1_row14_col4, #T_eaaf1_row15_col0, #T_eaaf1_row15_col2, #T_eaaf1_row15_col3, #T_eaaf1_row15_col4 {\n",
       "  background-color: #fff5f0;\n",
       "  color: #000000;\n",
       "  font-family: Segoe UI;\n",
       "}\n",
       "#T_eaaf1_row1_col0, #T_eaaf1_row1_col4 {\n",
       "  background-color: #b31218;\n",
       "  color: #f1f1f1;\n",
       "  font-family: Segoe UI;\n",
       "}\n",
       "#T_eaaf1_row2_col0, #T_eaaf1_row2_col4 {\n",
       "  background-color: #f03d2d;\n",
       "  color: #f1f1f1;\n",
       "  font-family: Segoe UI;\n",
       "}\n",
       "#T_eaaf1_row3_col0, #T_eaaf1_row3_col4 {\n",
       "  background-color: #f03f2e;\n",
       "  color: #f1f1f1;\n",
       "  font-family: Segoe UI;\n",
       "}\n",
       "#T_eaaf1_row4_col0, #T_eaaf1_row4_col4 {\n",
       "  background-color: #f14331;\n",
       "  color: #f1f1f1;\n",
       "  font-family: Segoe UI;\n",
       "}\n",
       "#T_eaaf1_row5_col0, #T_eaaf1_row5_col4 {\n",
       "  background-color: #fa6648;\n",
       "  color: #f1f1f1;\n",
       "  font-family: Segoe UI;\n",
       "}\n",
       "#T_eaaf1_row5_col2, #T_eaaf1_row5_col3 {\n",
       "  background-color: #fedfd0;\n",
       "  color: #000000;\n",
       "  font-family: Segoe UI;\n",
       "}\n",
       "#T_eaaf1_row6_col0, #T_eaaf1_row6_col4 {\n",
       "  background-color: #fc8f6f;\n",
       "  color: #000000;\n",
       "  font-family: Segoe UI;\n",
       "}\n",
       "#T_eaaf1_row6_col2, #T_eaaf1_row6_col3 {\n",
       "  background-color: #fcc3ab;\n",
       "  color: #000000;\n",
       "  font-family: Segoe UI;\n",
       "}\n",
       "#T_eaaf1_row7_col0, #T_eaaf1_row7_col4 {\n",
       "  background-color: #ffeee6;\n",
       "  color: #000000;\n",
       "  font-family: Segoe UI;\n",
       "}\n",
       "#T_eaaf1_row8_col0, #T_eaaf1_row8_col4 {\n",
       "  background-color: #fff2ec;\n",
       "  color: #000000;\n",
       "  font-family: Segoe UI;\n",
       "}\n",
       "#T_eaaf1_row9_col0, #T_eaaf1_row9_col4 {\n",
       "  background-color: #fff4ee;\n",
       "  color: #000000;\n",
       "  font-family: Segoe UI;\n",
       "}\n",
       "#T_eaaf1_row10_col0, #T_eaaf1_row10_col4, #T_eaaf1_row11_col0, #T_eaaf1_row11_col4 {\n",
       "  background-color: #fff4ef;\n",
       "  color: #000000;\n",
       "  font-family: Segoe UI;\n",
       "}\n",
       "#T_eaaf1_row11_col2, #T_eaaf1_row11_col3 {\n",
       "  background-color: #820711;\n",
       "  color: #f1f1f1;\n",
       "  font-family: Segoe UI;\n",
       "}\n",
       "#T_eaaf1_row14_col5 {\n",
       "  background-color: #fcb69b;\n",
       "  color: #000000;\n",
       "  font-family: Segoe UI;\n",
       "}\n",
       "</style>\n",
       "<table id=\"T_eaaf1\">\n",
       "  <thead>\n",
       "    <tr>\n",
       "      <th class=\"blank level0\" >&nbsp;</th>\n",
       "      <th id=\"T_eaaf1_level0_col0\" class=\"col_heading level0 col0\" >Nuniques</th>\n",
       "      <th id=\"T_eaaf1_level0_col1\" class=\"col_heading level0 col1\" >dtype</th>\n",
       "      <th id=\"T_eaaf1_level0_col2\" class=\"col_heading level0 col2\" >Nulls</th>\n",
       "      <th id=\"T_eaaf1_level0_col3\" class=\"col_heading level0 col3\" >Nullpercent</th>\n",
       "      <th id=\"T_eaaf1_level0_col4\" class=\"col_heading level0 col4\" >NuniquePercent</th>\n",
       "      <th id=\"T_eaaf1_level0_col5\" class=\"col_heading level0 col5\" >Value counts Min</th>\n",
       "      <th id=\"T_eaaf1_level0_col6\" class=\"col_heading level0 col6\" >Data cleaning improvement suggestions</th>\n",
       "    </tr>\n",
       "  </thead>\n",
       "  <tbody>\n",
       "    <tr>\n",
       "      <th id=\"T_eaaf1_level0_row0\" class=\"row_heading level0 row0\" >timestamp</th>\n",
       "      <td id=\"T_eaaf1_row0_col0\" class=\"data row0 col0\" >9990</td>\n",
       "      <td id=\"T_eaaf1_row0_col1\" class=\"data row0 col1\" >int64</td>\n",
       "      <td id=\"T_eaaf1_row0_col2\" class=\"data row0 col2\" >0</td>\n",
       "      <td id=\"T_eaaf1_row0_col3\" class=\"data row0 col3\" >0.000000</td>\n",
       "      <td id=\"T_eaaf1_row0_col4\" class=\"data row0 col4\" >99.900000</td>\n",
       "      <td id=\"T_eaaf1_row0_col5\" class=\"data row0 col5\" >0</td>\n",
       "      <td id=\"T_eaaf1_row0_col6\" class=\"data row0 col6\" ></td>\n",
       "    </tr>\n",
       "    <tr>\n",
       "      <th id=\"T_eaaf1_level0_row1\" class=\"row_heading level0 row1\" >userId</th>\n",
       "      <td id=\"T_eaaf1_row1_col0\" class=\"data row1 col0\" >8257</td>\n",
       "      <td id=\"T_eaaf1_row1_col1\" class=\"data row1 col1\" >int64</td>\n",
       "      <td id=\"T_eaaf1_row1_col2\" class=\"data row1 col2\" >0</td>\n",
       "      <td id=\"T_eaaf1_row1_col3\" class=\"data row1 col3\" >0.000000</td>\n",
       "      <td id=\"T_eaaf1_row1_col4\" class=\"data row1 col4\" >82.570000</td>\n",
       "      <td id=\"T_eaaf1_row1_col5\" class=\"data row1 col5\" >0</td>\n",
       "      <td id=\"T_eaaf1_row1_col6\" class=\"data row1 col6\" ></td>\n",
       "    </tr>\n",
       "    <tr>\n",
       "      <th id=\"T_eaaf1_level0_row2\" class=\"row_heading level0 row2\" >movieId</th>\n",
       "      <td id=\"T_eaaf1_row2_col0\" class=\"data row2 col0\" >6170</td>\n",
       "      <td id=\"T_eaaf1_row2_col1\" class=\"data row2 col1\" >object</td>\n",
       "      <td id=\"T_eaaf1_row2_col2\" class=\"data row2 col2\" >0</td>\n",
       "      <td id=\"T_eaaf1_row2_col3\" class=\"data row2 col3\" >0.000000</td>\n",
       "      <td id=\"T_eaaf1_row2_col4\" class=\"data row2 col4\" >61.700000</td>\n",
       "      <td id=\"T_eaaf1_row2_col5\" class=\"data row2 col5\" >1</td>\n",
       "      <td id=\"T_eaaf1_row2_col6\" class=\"data row2 col6\" >combine rare categories</td>\n",
       "    </tr>\n",
       "    <tr>\n",
       "      <th id=\"T_eaaf1_level0_row3\" class=\"row_heading level0 row3\" >title</th>\n",
       "      <td id=\"T_eaaf1_row3_col0\" class=\"data row3 col0\" >6164</td>\n",
       "      <td id=\"T_eaaf1_row3_col1\" class=\"data row3 col1\" >object</td>\n",
       "      <td id=\"T_eaaf1_row3_col2\" class=\"data row3 col2\" >0</td>\n",
       "      <td id=\"T_eaaf1_row3_col3\" class=\"data row3 col3\" >0.000000</td>\n",
       "      <td id=\"T_eaaf1_row3_col4\" class=\"data row3 col4\" >61.640000</td>\n",
       "      <td id=\"T_eaaf1_row3_col5\" class=\"data row3 col5\" >1</td>\n",
       "      <td id=\"T_eaaf1_row3_col6\" class=\"data row3 col6\" >combine rare categories</td>\n",
       "    </tr>\n",
       "    <tr>\n",
       "      <th id=\"T_eaaf1_level0_row4\" class=\"row_heading level0 row4\" >description</th>\n",
       "      <td id=\"T_eaaf1_row4_col0\" class=\"data row4 col0\" >6037</td>\n",
       "      <td id=\"T_eaaf1_row4_col1\" class=\"data row4 col1\" >object</td>\n",
       "      <td id=\"T_eaaf1_row4_col2\" class=\"data row4 col2\" >0</td>\n",
       "      <td id=\"T_eaaf1_row4_col3\" class=\"data row4 col3\" >0.000000</td>\n",
       "      <td id=\"T_eaaf1_row4_col4\" class=\"data row4 col4\" >60.370000</td>\n",
       "      <td id=\"T_eaaf1_row4_col5\" class=\"data row4 col5\" >1</td>\n",
       "      <td id=\"T_eaaf1_row4_col6\" class=\"data row4 col6\" >combine rare categories</td>\n",
       "    </tr>\n",
       "    <tr>\n",
       "      <th id=\"T_eaaf1_level0_row5\" class=\"row_heading level0 row5\" >cast</th>\n",
       "      <td id=\"T_eaaf1_row5_col0\" class=\"data row5 col0\" >5107</td>\n",
       "      <td id=\"T_eaaf1_row5_col1\" class=\"data row5 col1\" >object</td>\n",
       "      <td id=\"T_eaaf1_row5_col2\" class=\"data row5 col2\" >1276</td>\n",
       "      <td id=\"T_eaaf1_row5_col3\" class=\"data row5 col3\" >12.760000</td>\n",
       "      <td id=\"T_eaaf1_row5_col4\" class=\"data row5 col4\" >51.070000</td>\n",
       "      <td id=\"T_eaaf1_row5_col5\" class=\"data row5 col5\" >1</td>\n",
       "      <td id=\"T_eaaf1_row5_col6\" class=\"data row5 col6\" >combine rare categories, fill missing, fix mixed data types</td>\n",
       "    </tr>\n",
       "    <tr>\n",
       "      <th id=\"T_eaaf1_level0_row6\" class=\"row_heading level0 row6\" >director</th>\n",
       "      <td id=\"T_eaaf1_row6_col0\" class=\"data row6 col0\" >3856</td>\n",
       "      <td id=\"T_eaaf1_row6_col1\" class=\"data row6 col1\" >object</td>\n",
       "      <td id=\"T_eaaf1_row6_col2\" class=\"data row6 col2\" >2211</td>\n",
       "      <td id=\"T_eaaf1_row6_col3\" class=\"data row6 col3\" >22.110000</td>\n",
       "      <td id=\"T_eaaf1_row6_col4\" class=\"data row6 col4\" >38.560000</td>\n",
       "      <td id=\"T_eaaf1_row6_col5\" class=\"data row6 col5\" >1</td>\n",
       "      <td id=\"T_eaaf1_row6_col6\" class=\"data row6 col6\" >combine rare categories, fill missing, fix mixed data types</td>\n",
       "    </tr>\n",
       "    <tr>\n",
       "      <th id=\"T_eaaf1_level0_row7\" class=\"row_heading level0 row7\" >listed_in</th>\n",
       "      <td id=\"T_eaaf1_row7_col0\" class=\"data row7 col0\" >435</td>\n",
       "      <td id=\"T_eaaf1_row7_col1\" class=\"data row7 col1\" >object</td>\n",
       "      <td id=\"T_eaaf1_row7_col2\" class=\"data row7 col2\" >0</td>\n",
       "      <td id=\"T_eaaf1_row7_col3\" class=\"data row7 col3\" >0.000000</td>\n",
       "      <td id=\"T_eaaf1_row7_col4\" class=\"data row7 col4\" >4.350000</td>\n",
       "      <td id=\"T_eaaf1_row7_col5\" class=\"data row7 col5\" >1</td>\n",
       "      <td id=\"T_eaaf1_row7_col6\" class=\"data row7 col6\" >combine rare categories</td>\n",
       "    </tr>\n",
       "    <tr>\n",
       "      <th id=\"T_eaaf1_level0_row8\" class=\"row_heading level0 row8\" >duration_int</th>\n",
       "      <td id=\"T_eaaf1_row8_col0\" class=\"data row8 col0\" >196</td>\n",
       "      <td id=\"T_eaaf1_row8_col1\" class=\"data row8 col1\" >int64</td>\n",
       "      <td id=\"T_eaaf1_row8_col2\" class=\"data row8 col2\" >0</td>\n",
       "      <td id=\"T_eaaf1_row8_col3\" class=\"data row8 col3\" >0.000000</td>\n",
       "      <td id=\"T_eaaf1_row8_col4\" class=\"data row8 col4\" >1.960000</td>\n",
       "      <td id=\"T_eaaf1_row8_col5\" class=\"data row8 col5\" >0</td>\n",
       "      <td id=\"T_eaaf1_row8_col6\" class=\"data row8 col6\" ></td>\n",
       "    </tr>\n",
       "    <tr>\n",
       "      <th id=\"T_eaaf1_level0_row9\" class=\"row_heading level0 row9\" >release_year</th>\n",
       "      <td id=\"T_eaaf1_row9_col0\" class=\"data row9 col0\" >98</td>\n",
       "      <td id=\"T_eaaf1_row9_col1\" class=\"data row9 col1\" >int64</td>\n",
       "      <td id=\"T_eaaf1_row9_col2\" class=\"data row9 col2\" >0</td>\n",
       "      <td id=\"T_eaaf1_row9_col3\" class=\"data row9 col3\" >0.000000</td>\n",
       "      <td id=\"T_eaaf1_row9_col4\" class=\"data row9 col4\" >0.980000</td>\n",
       "      <td id=\"T_eaaf1_row9_col5\" class=\"data row9 col5\" >0</td>\n",
       "      <td id=\"T_eaaf1_row9_col6\" class=\"data row9 col6\" ></td>\n",
       "    </tr>\n",
       "    <tr>\n",
       "      <th id=\"T_eaaf1_level0_row10\" class=\"row_heading level0 row10\" >date_added</th>\n",
       "      <td id=\"T_eaaf1_row10_col0\" class=\"data row10 col0\" >62</td>\n",
       "      <td id=\"T_eaaf1_row10_col1\" class=\"data row10 col1\" >object</td>\n",
       "      <td id=\"T_eaaf1_row10_col2\" class=\"data row10 col2\" >9853</td>\n",
       "      <td id=\"T_eaaf1_row10_col3\" class=\"data row10 col3\" >98.530000</td>\n",
       "      <td id=\"T_eaaf1_row10_col4\" class=\"data row10 col4\" >0.620000</td>\n",
       "      <td id=\"T_eaaf1_row10_col5\" class=\"data row10 col5\" >1</td>\n",
       "      <td id=\"T_eaaf1_row10_col6\" class=\"data row10 col6\" >combine rare categories, fill missing, very high nulls percent: drop, fix mixed data types</td>\n",
       "    </tr>\n",
       "    <tr>\n",
       "      <th id=\"T_eaaf1_level0_row11\" class=\"row_heading level0 row11\" >country</th>\n",
       "      <td id=\"T_eaaf1_row11_col0\" class=\"data row11 col0\" >60</td>\n",
       "      <td id=\"T_eaaf1_row11_col1\" class=\"data row11 col1\" >object</td>\n",
       "      <td id=\"T_eaaf1_row11_col2\" class=\"data row11 col2\" >9292</td>\n",
       "      <td id=\"T_eaaf1_row11_col3\" class=\"data row11 col3\" >92.920000</td>\n",
       "      <td id=\"T_eaaf1_row11_col4\" class=\"data row11 col4\" >0.600000</td>\n",
       "      <td id=\"T_eaaf1_row11_col5\" class=\"data row11 col5\" >1</td>\n",
       "      <td id=\"T_eaaf1_row11_col6\" class=\"data row11 col6\" >combine rare categories, fill missing, very high nulls percent: drop, fix mixed data types</td>\n",
       "    </tr>\n",
       "    <tr>\n",
       "      <th id=\"T_eaaf1_level0_row12\" class=\"row_heading level0 row12\" >classification</th>\n",
       "      <td id=\"T_eaaf1_row12_col0\" class=\"data row12 col0\" >22</td>\n",
       "      <td id=\"T_eaaf1_row12_col1\" class=\"data row12 col1\" >object</td>\n",
       "      <td id=\"T_eaaf1_row12_col2\" class=\"data row12 col2\" >0</td>\n",
       "      <td id=\"T_eaaf1_row12_col3\" class=\"data row12 col3\" >0.000000</td>\n",
       "      <td id=\"T_eaaf1_row12_col4\" class=\"data row12 col4\" >0.220000</td>\n",
       "      <td id=\"T_eaaf1_row12_col5\" class=\"data row12 col5\" >1</td>\n",
       "      <td id=\"T_eaaf1_row12_col6\" class=\"data row12 col6\" >combine rare categories</td>\n",
       "    </tr>\n",
       "    <tr>\n",
       "      <th id=\"T_eaaf1_level0_row13\" class=\"row_heading level0 row13\" >rating</th>\n",
       "      <td id=\"T_eaaf1_row13_col0\" class=\"data row13 col0\" >10</td>\n",
       "      <td id=\"T_eaaf1_row13_col1\" class=\"data row13 col1\" >float64</td>\n",
       "      <td id=\"T_eaaf1_row13_col2\" class=\"data row13 col2\" >0</td>\n",
       "      <td id=\"T_eaaf1_row13_col3\" class=\"data row13 col3\" >0.000000</td>\n",
       "      <td id=\"T_eaaf1_row13_col4\" class=\"data row13 col4\" >0.100000</td>\n",
       "      <td id=\"T_eaaf1_row13_col5\" class=\"data row13 col5\" >0</td>\n",
       "      <td id=\"T_eaaf1_row13_col6\" class=\"data row13 col6\" ></td>\n",
       "    </tr>\n",
       "    <tr>\n",
       "      <th id=\"T_eaaf1_level0_row14\" class=\"row_heading level0 row14\" >duration_type</th>\n",
       "      <td id=\"T_eaaf1_row14_col0\" class=\"data row14 col0\" >3</td>\n",
       "      <td id=\"T_eaaf1_row14_col1\" class=\"data row14 col1\" >object</td>\n",
       "      <td id=\"T_eaaf1_row14_col2\" class=\"data row14 col2\" >0</td>\n",
       "      <td id=\"T_eaaf1_row14_col3\" class=\"data row14 col3\" >0.000000</td>\n",
       "      <td id=\"T_eaaf1_row14_col4\" class=\"data row14 col4\" >0.030000</td>\n",
       "      <td id=\"T_eaaf1_row14_col5\" class=\"data row14 col5\" >532</td>\n",
       "      <td id=\"T_eaaf1_row14_col6\" class=\"data row14 col6\" ></td>\n",
       "    </tr>\n",
       "    <tr>\n",
       "      <th id=\"T_eaaf1_level0_row15\" class=\"row_heading level0 row15\" >type</th>\n",
       "      <td id=\"T_eaaf1_row15_col0\" class=\"data row15 col0\" >2</td>\n",
       "      <td id=\"T_eaaf1_row15_col1\" class=\"data row15 col1\" >object</td>\n",
       "      <td id=\"T_eaaf1_row15_col2\" class=\"data row15 col2\" >0</td>\n",
       "      <td id=\"T_eaaf1_row15_col3\" class=\"data row15 col3\" >0.000000</td>\n",
       "      <td id=\"T_eaaf1_row15_col4\" class=\"data row15 col4\" >0.020000</td>\n",
       "      <td id=\"T_eaaf1_row15_col5\" class=\"data row15 col5\" >1974</td>\n",
       "      <td id=\"T_eaaf1_row15_col6\" class=\"data row15 col6\" ></td>\n",
       "    </tr>\n",
       "  </tbody>\n",
       "</table>\n"
      ],
      "text/plain": [
       "<pandas.io.formats.style.Styler at 0x2b3309ffc10>"
      ]
     },
     "metadata": {},
     "output_type": "display_data"
    },
    {
     "name": "stdout",
     "output_type": "stream",
     "text": [
      "    16 Predictors classified...\n",
      "        2 variables removed since they were ID or low-information variables\n",
      "        List of variables removed: ['country', 'date_added']\n",
      "Since Number of Rows in data 150000 exceeds maximum, randomly sampling 150000 rows for EDA...\n",
      "Could not find given target var in data set. Please check input\n",
      "Not able to read or load file. Please check your inputs and try again...\n"
     ]
    }
   ],
   "source": [
    "AV.AutoViz(filename=\"\", sep=',', depVar='target', dfte=platform_data, header=0, verbose=1, \n",
    "           lowess=False, chart_format='svg', max_rows_analyzed=150000, max_cols_analyzed=20)\n"
   ]
  },
  {
   "cell_type": "markdown",
   "metadata": {},
   "source": [
    "Podemos encontrar muchas particularidades en este DataFrame, vamos a enumerarlas:\n",
    "1. La gran ausencia de datos en varias de las columnas, pero principalmente en las columnas de **date_added** y **country**  (Mas del 90% en ambas!!!)\n",
    "2. Data mezclada en varias de las columnas.\n",
    "3. La falta de datos en la columna **cast**, la cual esta directamente relacionada con uno de los endpoint desarrollados en la API."
   ]
  },
  {
   "cell_type": "markdown",
   "metadata": {},
   "source": [
    "Veamos la cantidad exacta"
   ]
  },
  {
   "cell_type": "code",
   "execution_count": 11,
   "metadata": {
    "tags": []
   },
   "outputs": [
    {
     "data": {
      "text/plain": [
       "movieId                 0\n",
       "type                    0\n",
       "title                   0\n",
       "director           997917\n",
       "cast               591330\n",
       "country           4309387\n",
       "date_added        4557866\n",
       "release_year            0\n",
       "classification          0\n",
       "listed_in               0\n",
       "description             0\n",
       "duration_int            0\n",
       "duration_type           0\n",
       "userId                  0\n",
       "rating                  0\n",
       "timestamp               0\n",
       "dtype: int64"
      ]
     },
     "execution_count": 11,
     "metadata": {},
     "output_type": "execute_result"
    }
   ],
   "source": [
    "platform_data.isna().sum()"
   ]
  },
  {
   "cell_type": "markdown",
   "metadata": {},
   "source": [
    "Podemos encontrar casi todos los registros no disponibles en las columnas de *country* y *data_added*.\n",
    "Veamos en especifico estas columnas."
   ]
  },
  {
   "cell_type": "markdown",
   "metadata": {},
   "source": [
    "### PROBLEMA #01 : GRAN AUSENCIA DE DATOS"
   ]
  },
  {
   "cell_type": "code",
   "execution_count": 12,
   "metadata": {
    "tags": []
   },
   "outputs": [
    {
     "data": {
      "text/plain": [
       "country\n",
       "united states                            121125\n",
       "india                                    110437\n",
       "united kingdom                            13188\n",
       "canada                                     7707\n",
       "united kingdom, united states              5796\n",
       "                                          ...  \n",
       "united kingdom, canada, united states       454\n",
       "france, china, belgium, monaco              454\n",
       "germany, austria, united states             452\n",
       "india, denmark                              445\n",
       "france, belgium                             438\n",
       "Name: count, Length: 86, dtype: int64"
      ]
     },
     "execution_count": 12,
     "metadata": {},
     "output_type": "execute_result"
    }
   ],
   "source": [
    "platform_data['country'].value_counts()"
   ]
  },
  {
   "cell_type": "markdown",
   "metadata": {},
   "source": [
    "Vamos por partes:\n",
    "\n",
    "1. Podemos ver cómo algunas celdas tienen más de un país registrado y divididos por comas. Esto genera problemas a la hora de hacer la solicitud a través de la API y problemas con el análisis de los datos.\n",
    "2. Puede que existan algunas celdas con `whitespaces`\n",
    "Estos son los puntos que deben ser mejorados en esta columna."
   ]
  },
  {
   "cell_type": "code",
   "execution_count": 13,
   "metadata": {
    "tags": []
   },
   "outputs": [
    {
     "data": {
      "text/plain": [
       "array(['march 30, 2021', 'april 1, 2021', 'april 4, 2021',\n",
       "       'april 10, 2021', 'april 17, 2021', 'april 24, 2021',\n",
       "       'may 2, 2021', 'june 3, 2021', None, 'april 13, 2021',\n",
       "       'april 20, 2021', 'april 26, 2021', 'april 27, 2021',\n",
       "       'april 30, 2021', 'may 1, 2021', 'may 9, 2021', 'may 11, 2021',\n",
       "       'may 12, 2021', 'may 13, 2021', 'may 18, 2021', 'may 19, 2021',\n",
       "       'may 22, 2021', 'may 24, 2021', 'may 29, 2021', 'june 4, 2021',\n",
       "       'june 11, 2021', 'june 12, 2021', 'june 15, 2021', 'june 18, 2021',\n",
       "       'june 20, 2021', 'june 21, 2021', 'june 22, 2021', 'june 23, 2021',\n",
       "       'june 24, 2021', 'june 25, 2021', 'june 26, 2021', 'june 29, 2021',\n",
       "       'july 1, 2021', 'july 3, 2021', 'july 8, 2021', 'july 12, 2021',\n",
       "       'july 16, 2021', 'july 17, 2021', 'july 20, 2021', 'july 23, 2021',\n",
       "       'july 24, 2021', 'july 26, 2021', 'july 27, 2021',\n",
       "       'august 1, 2021', 'august 4, 2021', 'august 6, 2021',\n",
       "       'august 14, 2021', 'august 15, 2021', 'august 16, 2021',\n",
       "       'august 17, 2021', 'august 18, 2021', 'august 21, 2021',\n",
       "       'august 26, 2021', 'august 27, 2021', 'august 29, 2021',\n",
       "       'september 2, 2021', 'september 4, 2021', 'september 9, 2021',\n",
       "       'september 10, 2021', 'september 11, 2021', 'september 12, 2021',\n",
       "       'september 14, 2021', 'september 15, 2021', 'september 17, 2021',\n",
       "       'september 18, 2021', 'september 19, 2021', 'september 22, 2021',\n",
       "       'september 25, 2021', 'september 26, 2021', 'september 29, 2021',\n",
       "       'september 30, 2021', 'october 1, 2021', 'october 2, 2021',\n",
       "       'october 3, 2021', 'october 4, 2021', 'october 5, 2021',\n",
       "       'october 6, 2021', 'october 7, 2021', 'october 8, 2021',\n",
       "       'october 10, 2021'], dtype=object)"
      ]
     },
     "execution_count": 13,
     "metadata": {},
     "output_type": "execute_result"
    }
   ],
   "source": [
    "platform_data['date_added'].unique()"
   ]
  },
  {
   "cell_type": "markdown",
   "metadata": {},
   "source": [
    "Podemos observar que todos los valores únicos en esta columna tienen una constante, solo son del año 2021. No existen registros de años anteriores en esta columna."
   ]
  },
  {
   "cell_type": "code",
   "execution_count": 14,
   "metadata": {
    "tags": []
   },
   "outputs": [
    {
     "data": {
      "text/plain": [
       "array([2014, 2018, 2017, 1989, 2016, 1994, 2020, 2019, 2008, 2001, 1941,\n",
       "       1991, 2005, 2015, 2011, 2013, 1949, 2007, 2002, 1955, 1959, 1983,\n",
       "       2009, 2012, 2010, 1986, 1988, 1920, 1936, 1992, 2021, 1993, 2006,\n",
       "       1948, 1946, 1944, 1935, 1985, 1937, 1970, 1945, 1939, 1996, 1997,\n",
       "       1974, 1938, 1978, 2004, 1943, 1975, 1960, 1934, 1940, 1961, 2003,\n",
       "       2000, 1967, 1995, 1951, 1932, 1999, 1963, 1969, 1952, 1947, 1929,\n",
       "       1990, 1925, 1968, 1987, 1942, 1979, 1980, 1981, 1976, 1966, 1973,\n",
       "       1956, 1972, 1950, 1953, 1982, 1977, 1933, 1958, 1984, 1998, 1924,\n",
       "       1922, 1926, 1954, 1930, 1971, 1965, 1931, 1923, 1962, 1964, 1957,\n",
       "       1927], dtype=int64)"
      ]
     },
     "execution_count": 14,
     "metadata": {},
     "output_type": "execute_result"
    }
   ],
   "source": [
    "platform_data['release_year'].unique()"
   ]
  },
  {
   "cell_type": "markdown",
   "metadata": {},
   "source": [
    "Encontramos una clara inconsistencia entre ambas columnas, las cuales deberian estar relacionadas.\n",
    "Por la naturaleza del proyecto y la inconsistencia de la columna de **date_added**, es considerable directamente eliminarla."
   ]
  },
  {
   "cell_type": "markdown",
   "metadata": {},
   "source": [
    "### PROBLEMA #02 Y PROBLEMA #03: DATOS MEZCLADOS Y LA COLUMNA CAST"
   ]
  },
  {
   "cell_type": "markdown",
   "metadata": {},
   "source": [
    "Miremos los tipos de datos de cada columna"
   ]
  },
  {
   "cell_type": "code",
   "execution_count": 15,
   "metadata": {
    "tags": []
   },
   "outputs": [
    {
     "name": "stdout",
     "output_type": "stream",
     "text": [
      "<class 'pandas.core.frame.DataFrame'>\n",
      "RangeIndex: 4631850 entries, 0 to 4631849\n",
      "Data columns (total 16 columns):\n",
      " #   Column          Dtype  \n",
      "---  ------          -----  \n",
      " 0   movieId         object \n",
      " 1   type            object \n",
      " 2   title           object \n",
      " 3   director        object \n",
      " 4   cast            object \n",
      " 5   country         object \n",
      " 6   date_added      object \n",
      " 7   release_year    int64  \n",
      " 8   classification  object \n",
      " 9   listed_in       object \n",
      " 10  description     object \n",
      " 11  duration_int    int64  \n",
      " 12  duration_type   object \n",
      " 13  userId          int64  \n",
      " 14  rating          float64\n",
      " 15  timestamp       int64  \n",
      "dtypes: float64(1), int64(4), object(11)\n",
      "memory usage: 565.4+ MB\n"
     ]
    }
   ],
   "source": [
    "platform_data.info()"
   ]
  },
  {
   "cell_type": "markdown",
   "metadata": {},
   "source": [
    "A excepcion de la columna de **date_added**; no parece haber una columna con un Dtype no acorde a la informacion que debe contener, pero segun la el diagrama disponible por AutoViz, los hay. Entremos en las columnas directamente relacionadas con los EndPoint.\n",
    "\n",
    "En este caso seria unicamente la columna de **cast**"
   ]
  },
  {
   "cell_type": "code",
   "execution_count": 16,
   "metadata": {
    "tags": []
   },
   "outputs": [
    {
     "data": {
      "text/plain": [
       "cast\n",
       "maggie binkley                                                                         26706\n",
       "1                                                                                      16247\n",
       "anne-marie newland                                                                     11533\n",
       "cassandra peterson                                                                      9875\n",
       "grace tamayo, erin webbs                                                                8205\n",
       "                                                                                       ...  \n",
       "lezley mcspadden, michael brown sr.                                                      412\n",
       "rome brooks, matt bush                                                                   412\n",
       "john payne, coleen gray, preston foster, neville brand, lee van cleef                    410\n",
       "jesse metcalfe, brittany snow, ashanti, sophia bush, arielle kebbel, jenny mccarthy      410\n",
       "mitzi gaynor, george hamilton, phil harris                                               396\n",
       "Name: count, Length: 7922, dtype: int64"
      ]
     },
     "execution_count": 16,
     "metadata": {},
     "output_type": "execute_result"
    }
   ],
   "source": [
    "platform_data['cast'].value_counts()"
   ]
  },
  {
   "cell_type": "markdown",
   "metadata": {},
   "source": [
    "Encontramos la inconsistencia de datos en la columna. Abria que hablar con el cliente para saber que hacer con ese dato faltante y si es posible reemplazarlo con la informacion correspondiente."
   ]
  },
  {
   "cell_type": "markdown",
   "metadata": {},
   "source": [
    "## NETFLIX"
   ]
  },
  {
   "cell_type": "code",
   "execution_count": 17,
   "metadata": {
    "tags": []
   },
   "outputs": [
    {
     "data": {
      "text/plain": [
       "(4224861, 16)"
      ]
     },
     "execution_count": 17,
     "metadata": {},
     "output_type": "execute_result"
    }
   ],
   "source": [
    "platform_data = df_dict['netflix']\n",
    "platform_data.shape"
   ]
  },
  {
   "cell_type": "markdown",
   "metadata": {},
   "source": [
    "Encontamos un numero de registros similar al DataFrame de Amazon Prime.\n",
    "Ahora entremos en profundidad"
   ]
  },
  {
   "cell_type": "code",
   "execution_count": 18,
   "metadata": {
    "tags": []
   },
   "outputs": [
    {
     "name": "stdout",
     "output_type": "stream",
     "text": [
      "    Since nrows is smaller than dataset, loading random sample of 150000 rows into pandas...\n",
      "Shape of your Data Set loaded: (150000, 16)\n",
      "#######################################################################################\n",
      "######################## C L A S S I F Y I N G  V A R I A B L E S  ####################\n",
      "#######################################################################################\n",
      "Classifying variables in data set...\n",
      "Data cleaning improvement suggestions. Complete them before proceeding to ML modeling.\n"
     ]
    },
    {
     "data": {
      "text/html": [
       "<style type=\"text/css\">\n",
       "#T_b6bfb_row0_col0, #T_b6bfb_row0_col4, #T_b6bfb_row6_col2, #T_b6bfb_row6_col3, #T_b6bfb_row15_col5 {\n",
       "  background-color: #67000d;\n",
       "  color: #f1f1f1;\n",
       "  font-family: Segoe UI;\n",
       "}\n",
       "#T_b6bfb_row0_col1, #T_b6bfb_row0_col6, #T_b6bfb_row1_col1, #T_b6bfb_row1_col6, #T_b6bfb_row2_col1, #T_b6bfb_row2_col6, #T_b6bfb_row3_col1, #T_b6bfb_row3_col6, #T_b6bfb_row4_col1, #T_b6bfb_row4_col6, #T_b6bfb_row5_col1, #T_b6bfb_row5_col6, #T_b6bfb_row6_col1, #T_b6bfb_row6_col6, #T_b6bfb_row7_col1, #T_b6bfb_row7_col6, #T_b6bfb_row8_col1, #T_b6bfb_row8_col6, #T_b6bfb_row9_col1, #T_b6bfb_row9_col6, #T_b6bfb_row10_col1, #T_b6bfb_row10_col6, #T_b6bfb_row11_col1, #T_b6bfb_row11_col6, #T_b6bfb_row12_col1, #T_b6bfb_row12_col6, #T_b6bfb_row13_col1, #T_b6bfb_row13_col6, #T_b6bfb_row14_col1, #T_b6bfb_row14_col6, #T_b6bfb_row15_col1, #T_b6bfb_row15_col6 {\n",
       "  font-family: Segoe UI;\n",
       "}\n",
       "#T_b6bfb_row0_col2, #T_b6bfb_row0_col3, #T_b6bfb_row0_col5, #T_b6bfb_row1_col2, #T_b6bfb_row1_col3, #T_b6bfb_row1_col5, #T_b6bfb_row2_col2, #T_b6bfb_row2_col3, #T_b6bfb_row2_col5, #T_b6bfb_row3_col2, #T_b6bfb_row3_col3, #T_b6bfb_row3_col5, #T_b6bfb_row4_col2, #T_b6bfb_row4_col3, #T_b6bfb_row4_col5, #T_b6bfb_row5_col5, #T_b6bfb_row6_col5, #T_b6bfb_row7_col5, #T_b6bfb_row8_col5, #T_b6bfb_row9_col2, #T_b6bfb_row9_col3, #T_b6bfb_row9_col5, #T_b6bfb_row10_col2, #T_b6bfb_row10_col3, #T_b6bfb_row10_col5, #T_b6bfb_row11_col2, #T_b6bfb_row11_col3, #T_b6bfb_row11_col5, #T_b6bfb_row12_col0, #T_b6bfb_row12_col2, #T_b6bfb_row12_col3, #T_b6bfb_row12_col4, #T_b6bfb_row12_col5, #T_b6bfb_row13_col0, #T_b6bfb_row13_col2, #T_b6bfb_row13_col3, #T_b6bfb_row13_col4, #T_b6bfb_row13_col5, #T_b6bfb_row14_col0, #T_b6bfb_row14_col2, #T_b6bfb_row14_col3, #T_b6bfb_row14_col4, #T_b6bfb_row15_col0, #T_b6bfb_row15_col2, #T_b6bfb_row15_col3, #T_b6bfb_row15_col4 {\n",
       "  background-color: #fff5f0;\n",
       "  color: #000000;\n",
       "  font-family: Segoe UI;\n",
       "}\n",
       "#T_b6bfb_row1_col0, #T_b6bfb_row1_col4 {\n",
       "  background-color: #b21218;\n",
       "  color: #f1f1f1;\n",
       "  font-family: Segoe UI;\n",
       "}\n",
       "#T_b6bfb_row2_col0, #T_b6bfb_row2_col4, #T_b6bfb_row3_col0, #T_b6bfb_row3_col4 {\n",
       "  background-color: #f24633;\n",
       "  color: #f1f1f1;\n",
       "  font-family: Segoe UI;\n",
       "}\n",
       "#T_b6bfb_row4_col0, #T_b6bfb_row4_col4 {\n",
       "  background-color: #f24734;\n",
       "  color: #f1f1f1;\n",
       "  font-family: Segoe UI;\n",
       "}\n",
       "#T_b6bfb_row5_col0, #T_b6bfb_row5_col4 {\n",
       "  background-color: #f96044;\n",
       "  color: #f1f1f1;\n",
       "  font-family: Segoe UI;\n",
       "}\n",
       "#T_b6bfb_row5_col2, #T_b6bfb_row5_col3 {\n",
       "  background-color: #fca588;\n",
       "  color: #000000;\n",
       "  font-family: Segoe UI;\n",
       "}\n",
       "#T_b6bfb_row6_col0, #T_b6bfb_row6_col4 {\n",
       "  background-color: #fca183;\n",
       "  color: #000000;\n",
       "  font-family: Segoe UI;\n",
       "}\n",
       "#T_b6bfb_row7_col0, #T_b6bfb_row7_col4 {\n",
       "  background-color: #fed9c9;\n",
       "  color: #000000;\n",
       "  font-family: Segoe UI;\n",
       "}\n",
       "#T_b6bfb_row7_col2, #T_b6bfb_row7_col3, #T_b6bfb_row11_col0, #T_b6bfb_row11_col4 {\n",
       "  background-color: #fff4ef;\n",
       "  color: #000000;\n",
       "  font-family: Segoe UI;\n",
       "}\n",
       "#T_b6bfb_row8_col0, #T_b6bfb_row8_col4 {\n",
       "  background-color: #ffece3;\n",
       "  color: #000000;\n",
       "  font-family: Segoe UI;\n",
       "}\n",
       "#T_b6bfb_row8_col2, #T_b6bfb_row8_col3 {\n",
       "  background-color: #fca486;\n",
       "  color: #000000;\n",
       "  font-family: Segoe UI;\n",
       "}\n",
       "#T_b6bfb_row9_col0, #T_b6bfb_row9_col4 {\n",
       "  background-color: #ffeee6;\n",
       "  color: #000000;\n",
       "  font-family: Segoe UI;\n",
       "}\n",
       "#T_b6bfb_row10_col0, #T_b6bfb_row10_col4 {\n",
       "  background-color: #fff2eb;\n",
       "  color: #000000;\n",
       "  font-family: Segoe UI;\n",
       "}\n",
       "#T_b6bfb_row14_col5 {\n",
       "  background-color: #fc9e80;\n",
       "  color: #000000;\n",
       "  font-family: Segoe UI;\n",
       "}\n",
       "</style>\n",
       "<table id=\"T_b6bfb\">\n",
       "  <thead>\n",
       "    <tr>\n",
       "      <th class=\"blank level0\" >&nbsp;</th>\n",
       "      <th id=\"T_b6bfb_level0_col0\" class=\"col_heading level0 col0\" >Nuniques</th>\n",
       "      <th id=\"T_b6bfb_level0_col1\" class=\"col_heading level0 col1\" >dtype</th>\n",
       "      <th id=\"T_b6bfb_level0_col2\" class=\"col_heading level0 col2\" >Nulls</th>\n",
       "      <th id=\"T_b6bfb_level0_col3\" class=\"col_heading level0 col3\" >Nullpercent</th>\n",
       "      <th id=\"T_b6bfb_level0_col4\" class=\"col_heading level0 col4\" >NuniquePercent</th>\n",
       "      <th id=\"T_b6bfb_level0_col5\" class=\"col_heading level0 col5\" >Value counts Min</th>\n",
       "      <th id=\"T_b6bfb_level0_col6\" class=\"col_heading level0 col6\" >Data cleaning improvement suggestions</th>\n",
       "    </tr>\n",
       "  </thead>\n",
       "  <tbody>\n",
       "    <tr>\n",
       "      <th id=\"T_b6bfb_level0_row0\" class=\"row_heading level0 row0\" >timestamp</th>\n",
       "      <td id=\"T_b6bfb_row0_col0\" class=\"data row0 col0\" >9999</td>\n",
       "      <td id=\"T_b6bfb_row0_col1\" class=\"data row0 col1\" >int64</td>\n",
       "      <td id=\"T_b6bfb_row0_col2\" class=\"data row0 col2\" >0</td>\n",
       "      <td id=\"T_b6bfb_row0_col3\" class=\"data row0 col3\" >0.000000</td>\n",
       "      <td id=\"T_b6bfb_row0_col4\" class=\"data row0 col4\" >99.990000</td>\n",
       "      <td id=\"T_b6bfb_row0_col5\" class=\"data row0 col5\" >0</td>\n",
       "      <td id=\"T_b6bfb_row0_col6\" class=\"data row0 col6\" ></td>\n",
       "    </tr>\n",
       "    <tr>\n",
       "      <th id=\"T_b6bfb_level0_row1\" class=\"row_heading level0 row1\" >userId</th>\n",
       "      <td id=\"T_b6bfb_row1_col0\" class=\"data row1 col0\" >8291</td>\n",
       "      <td id=\"T_b6bfb_row1_col1\" class=\"data row1 col1\" >int64</td>\n",
       "      <td id=\"T_b6bfb_row1_col2\" class=\"data row1 col2\" >0</td>\n",
       "      <td id=\"T_b6bfb_row1_col3\" class=\"data row1 col3\" >0.000000</td>\n",
       "      <td id=\"T_b6bfb_row1_col4\" class=\"data row1 col4\" >82.910000</td>\n",
       "      <td id=\"T_b6bfb_row1_col5\" class=\"data row1 col5\" >0</td>\n",
       "      <td id=\"T_b6bfb_row1_col6\" class=\"data row1 col6\" ></td>\n",
       "    </tr>\n",
       "    <tr>\n",
       "      <th id=\"T_b6bfb_level0_row2\" class=\"row_heading level0 row2\" >movieId</th>\n",
       "      <td id=\"T_b6bfb_row2_col0\" class=\"data row2 col0\" >5945</td>\n",
       "      <td id=\"T_b6bfb_row2_col1\" class=\"data row2 col1\" >object</td>\n",
       "      <td id=\"T_b6bfb_row2_col2\" class=\"data row2 col2\" >0</td>\n",
       "      <td id=\"T_b6bfb_row2_col3\" class=\"data row2 col3\" >0.000000</td>\n",
       "      <td id=\"T_b6bfb_row2_col4\" class=\"data row2 col4\" >59.450000</td>\n",
       "      <td id=\"T_b6bfb_row2_col5\" class=\"data row2 col5\" >1</td>\n",
       "      <td id=\"T_b6bfb_row2_col6\" class=\"data row2 col6\" >combine rare categories</td>\n",
       "    </tr>\n",
       "    <tr>\n",
       "      <th id=\"T_b6bfb_level0_row3\" class=\"row_heading level0 row3\" >title</th>\n",
       "      <td id=\"T_b6bfb_row3_col0\" class=\"data row3 col0\" >5943</td>\n",
       "      <td id=\"T_b6bfb_row3_col1\" class=\"data row3 col1\" >object</td>\n",
       "      <td id=\"T_b6bfb_row3_col2\" class=\"data row3 col2\" >0</td>\n",
       "      <td id=\"T_b6bfb_row3_col3\" class=\"data row3 col3\" >0.000000</td>\n",
       "      <td id=\"T_b6bfb_row3_col4\" class=\"data row3 col4\" >59.430000</td>\n",
       "      <td id=\"T_b6bfb_row3_col5\" class=\"data row3 col5\" >1</td>\n",
       "      <td id=\"T_b6bfb_row3_col6\" class=\"data row3 col6\" >combine rare categories</td>\n",
       "    </tr>\n",
       "    <tr>\n",
       "      <th id=\"T_b6bfb_level0_row4\" class=\"row_heading level0 row4\" >description</th>\n",
       "      <td id=\"T_b6bfb_row4_col0\" class=\"data row4 col0\" >5929</td>\n",
       "      <td id=\"T_b6bfb_row4_col1\" class=\"data row4 col1\" >object</td>\n",
       "      <td id=\"T_b6bfb_row4_col2\" class=\"data row4 col2\" >0</td>\n",
       "      <td id=\"T_b6bfb_row4_col3\" class=\"data row4 col3\" >0.000000</td>\n",
       "      <td id=\"T_b6bfb_row4_col4\" class=\"data row4 col4\" >59.290000</td>\n",
       "      <td id=\"T_b6bfb_row4_col5\" class=\"data row4 col5\" >1</td>\n",
       "      <td id=\"T_b6bfb_row4_col6\" class=\"data row4 col6\" >combine rare categories</td>\n",
       "    </tr>\n",
       "    <tr>\n",
       "      <th id=\"T_b6bfb_level0_row5\" class=\"row_heading level0 row5\" >cast</th>\n",
       "      <td id=\"T_b6bfb_row5_col0\" class=\"data row5 col0\" >5243</td>\n",
       "      <td id=\"T_b6bfb_row5_col1\" class=\"data row5 col1\" >object</td>\n",
       "      <td id=\"T_b6bfb_row5_col2\" class=\"data row5 col2\" >966</td>\n",
       "      <td id=\"T_b6bfb_row5_col3\" class=\"data row5 col3\" >9.660000</td>\n",
       "      <td id=\"T_b6bfb_row5_col4\" class=\"data row5 col4\" >52.430000</td>\n",
       "      <td id=\"T_b6bfb_row5_col5\" class=\"data row5 col5\" >1</td>\n",
       "      <td id=\"T_b6bfb_row5_col6\" class=\"data row5 col6\" >combine rare categories, fill missing, fix mixed data types</td>\n",
       "    </tr>\n",
       "    <tr>\n",
       "      <th id=\"T_b6bfb_level0_row6\" class=\"row_heading level0 row6\" >director</th>\n",
       "      <td id=\"T_b6bfb_row6_col0\" class=\"data row6 col0\" >3284</td>\n",
       "      <td id=\"T_b6bfb_row6_col1\" class=\"data row6 col1\" >object</td>\n",
       "      <td id=\"T_b6bfb_row6_col2\" class=\"data row6 col2\" >3024</td>\n",
       "      <td id=\"T_b6bfb_row6_col3\" class=\"data row6 col3\" >30.240000</td>\n",
       "      <td id=\"T_b6bfb_row6_col4\" class=\"data row6 col4\" >32.840000</td>\n",
       "      <td id=\"T_b6bfb_row6_col5\" class=\"data row6 col5\" >1</td>\n",
       "      <td id=\"T_b6bfb_row6_col6\" class=\"data row6 col6\" >combine rare categories, fill missing, fix mixed data types</td>\n",
       "    </tr>\n",
       "    <tr>\n",
       "      <th id=\"T_b6bfb_level0_row7\" class=\"row_heading level0 row7\" >date_added</th>\n",
       "      <td id=\"T_b6bfb_row7_col0\" class=\"data row7 col0\" >1505</td>\n",
       "      <td id=\"T_b6bfb_row7_col1\" class=\"data row7 col1\" >object</td>\n",
       "      <td id=\"T_b6bfb_row7_col2\" class=\"data row7 col2\" >14</td>\n",
       "      <td id=\"T_b6bfb_row7_col3\" class=\"data row7 col3\" >0.140000</td>\n",
       "      <td id=\"T_b6bfb_row7_col4\" class=\"data row7 col4\" >15.050000</td>\n",
       "      <td id=\"T_b6bfb_row7_col5\" class=\"data row7 col5\" >1</td>\n",
       "      <td id=\"T_b6bfb_row7_col6\" class=\"data row7 col6\" >combine rare categories, fill missing, fix mixed data types</td>\n",
       "    </tr>\n",
       "    <tr>\n",
       "      <th id=\"T_b6bfb_level0_row8\" class=\"row_heading level0 row8\" >country</th>\n",
       "      <td id=\"T_b6bfb_row8_col0\" class=\"data row8 col0\" >557</td>\n",
       "      <td id=\"T_b6bfb_row8_col1\" class=\"data row8 col1\" >object</td>\n",
       "      <td id=\"T_b6bfb_row8_col2\" class=\"data row8 col2\" >970</td>\n",
       "      <td id=\"T_b6bfb_row8_col3\" class=\"data row8 col3\" >9.700000</td>\n",
       "      <td id=\"T_b6bfb_row8_col4\" class=\"data row8 col4\" >5.570000</td>\n",
       "      <td id=\"T_b6bfb_row8_col5\" class=\"data row8 col5\" >1</td>\n",
       "      <td id=\"T_b6bfb_row8_col6\" class=\"data row8 col6\" >combine rare categories, fill missing, fix mixed data types</td>\n",
       "    </tr>\n",
       "    <tr>\n",
       "      <th id=\"T_b6bfb_level0_row9\" class=\"row_heading level0 row9\" >listed_in</th>\n",
       "      <td id=\"T_b6bfb_row9_col0\" class=\"data row9 col0\" >461</td>\n",
       "      <td id=\"T_b6bfb_row9_col1\" class=\"data row9 col1\" >object</td>\n",
       "      <td id=\"T_b6bfb_row9_col2\" class=\"data row9 col2\" >0</td>\n",
       "      <td id=\"T_b6bfb_row9_col3\" class=\"data row9 col3\" >0.000000</td>\n",
       "      <td id=\"T_b6bfb_row9_col4\" class=\"data row9 col4\" >4.610000</td>\n",
       "      <td id=\"T_b6bfb_row9_col5\" class=\"data row9 col5\" >1</td>\n",
       "      <td id=\"T_b6bfb_row9_col6\" class=\"data row9 col6\" >combine rare categories</td>\n",
       "    </tr>\n",
       "    <tr>\n",
       "      <th id=\"T_b6bfb_level0_row10\" class=\"row_heading level0 row10\" >duration_int</th>\n",
       "      <td id=\"T_b6bfb_row10_col0\" class=\"data row10 col0\" >202</td>\n",
       "      <td id=\"T_b6bfb_row10_col1\" class=\"data row10 col1\" >object</td>\n",
       "      <td id=\"T_b6bfb_row10_col2\" class=\"data row10 col2\" >1</td>\n",
       "      <td id=\"T_b6bfb_row10_col3\" class=\"data row10 col3\" >0.010000</td>\n",
       "      <td id=\"T_b6bfb_row10_col4\" class=\"data row10 col4\" >2.020000</td>\n",
       "      <td id=\"T_b6bfb_row10_col5\" class=\"data row10 col5\" >1</td>\n",
       "      <td id=\"T_b6bfb_row10_col6\" class=\"data row10 col6\" >combine rare categories, fill missing, fix mixed data types</td>\n",
       "    </tr>\n",
       "    <tr>\n",
       "      <th id=\"T_b6bfb_level0_row11\" class=\"row_heading level0 row11\" >release_year</th>\n",
       "      <td id=\"T_b6bfb_row11_col0\" class=\"data row11 col0\" >71</td>\n",
       "      <td id=\"T_b6bfb_row11_col1\" class=\"data row11 col1\" >int64</td>\n",
       "      <td id=\"T_b6bfb_row11_col2\" class=\"data row11 col2\" >0</td>\n",
       "      <td id=\"T_b6bfb_row11_col3\" class=\"data row11 col3\" >0.000000</td>\n",
       "      <td id=\"T_b6bfb_row11_col4\" class=\"data row11 col4\" >0.710000</td>\n",
       "      <td id=\"T_b6bfb_row11_col5\" class=\"data row11 col5\" >0</td>\n",
       "      <td id=\"T_b6bfb_row11_col6\" class=\"data row11 col6\" ></td>\n",
       "    </tr>\n",
       "    <tr>\n",
       "      <th id=\"T_b6bfb_level0_row12\" class=\"row_heading level0 row12\" >classification</th>\n",
       "      <td id=\"T_b6bfb_row12_col0\" class=\"data row12 col0\" >15</td>\n",
       "      <td id=\"T_b6bfb_row12_col1\" class=\"data row12 col1\" >object</td>\n",
       "      <td id=\"T_b6bfb_row12_col2\" class=\"data row12 col2\" >0</td>\n",
       "      <td id=\"T_b6bfb_row12_col3\" class=\"data row12 col3\" >0.000000</td>\n",
       "      <td id=\"T_b6bfb_row12_col4\" class=\"data row12 col4\" >0.150000</td>\n",
       "      <td id=\"T_b6bfb_row12_col5\" class=\"data row12 col5\" >1</td>\n",
       "      <td id=\"T_b6bfb_row12_col6\" class=\"data row12 col6\" ></td>\n",
       "    </tr>\n",
       "    <tr>\n",
       "      <th id=\"T_b6bfb_level0_row13\" class=\"row_heading level0 row13\" >rating</th>\n",
       "      <td id=\"T_b6bfb_row13_col0\" class=\"data row13 col0\" >10</td>\n",
       "      <td id=\"T_b6bfb_row13_col1\" class=\"data row13 col1\" >float64</td>\n",
       "      <td id=\"T_b6bfb_row13_col2\" class=\"data row13 col2\" >0</td>\n",
       "      <td id=\"T_b6bfb_row13_col3\" class=\"data row13 col3\" >0.000000</td>\n",
       "      <td id=\"T_b6bfb_row13_col4\" class=\"data row13 col4\" >0.100000</td>\n",
       "      <td id=\"T_b6bfb_row13_col5\" class=\"data row13 col5\" >0</td>\n",
       "      <td id=\"T_b6bfb_row13_col6\" class=\"data row13 col6\" ></td>\n",
       "    </tr>\n",
       "    <tr>\n",
       "      <th id=\"T_b6bfb_level0_row14\" class=\"row_heading level0 row14\" >duration_type</th>\n",
       "      <td id=\"T_b6bfb_row14_col0\" class=\"data row14 col0\" >3</td>\n",
       "      <td id=\"T_b6bfb_row14_col1\" class=\"data row14 col1\" >object</td>\n",
       "      <td id=\"T_b6bfb_row14_col2\" class=\"data row14 col2\" >1</td>\n",
       "      <td id=\"T_b6bfb_row14_col3\" class=\"data row14 col3\" >0.010000</td>\n",
       "      <td id=\"T_b6bfb_row14_col4\" class=\"data row14 col4\" >0.030000</td>\n",
       "      <td id=\"T_b6bfb_row14_col5\" class=\"data row14 col5\" >1040</td>\n",
       "      <td id=\"T_b6bfb_row14_col6\" class=\"data row14 col6\" >fill missing, fix mixed data types</td>\n",
       "    </tr>\n",
       "    <tr>\n",
       "      <th id=\"T_b6bfb_level0_row15\" class=\"row_heading level0 row15\" >type</th>\n",
       "      <td id=\"T_b6bfb_row15_col0\" class=\"data row15 col0\" >2</td>\n",
       "      <td id=\"T_b6bfb_row15_col1\" class=\"data row15 col1\" >object</td>\n",
       "      <td id=\"T_b6bfb_row15_col2\" class=\"data row15 col2\" >0</td>\n",
       "      <td id=\"T_b6bfb_row15_col3\" class=\"data row15 col3\" >0.000000</td>\n",
       "      <td id=\"T_b6bfb_row15_col4\" class=\"data row15 col4\" >0.020000</td>\n",
       "      <td id=\"T_b6bfb_row15_col5\" class=\"data row15 col5\" >3083</td>\n",
       "      <td id=\"T_b6bfb_row15_col6\" class=\"data row15 col6\" ></td>\n",
       "    </tr>\n",
       "  </tbody>\n",
       "</table>\n"
      ],
      "text/plain": [
       "<pandas.io.formats.style.Styler at 0x2b330ada5b0>"
      ]
     },
     "metadata": {},
     "output_type": "display_data"
    },
    {
     "name": "stdout",
     "output_type": "stream",
     "text": [
      "    16 Predictors classified...\n",
      "        No variables removed since no ID or low-information variables found in data set\n",
      "Since Number of Rows in data 150000 exceeds maximum, randomly sampling 150000 rows for EDA...\n",
      "Could not find given target var in data set. Please check input\n",
      "Not able to read or load file. Please check your inputs and try again...\n"
     ]
    }
   ],
   "source": [
    "AV.AutoViz(filename=\"\", sep=',', depVar='target', dfte=platform_data, header=0, verbose=1, \n",
    "           lowess=False, chart_format='svg', max_rows_analyzed=150000, max_cols_analyzed=20)"
   ]
  },
  {
   "cell_type": "markdown",
   "metadata": {},
   "source": [
    "1. Valores NaN en columna claves como **cast**, **country**, **duration_int** y **duration_type**\n",
    "2. Tipos de datos mezclados en columnas claves como **duration_int**, **duration_type**, **cast**, **country**"
   ]
  },
  {
   "cell_type": "markdown",
   "metadata": {},
   "source": [
    "Veamos el total de datos NaN"
   ]
  },
  {
   "cell_type": "code",
   "execution_count": 19,
   "metadata": {
    "tags": []
   },
   "outputs": [
    {
     "data": {
      "text/plain": [
       "movieId                 0\n",
       "type                    0\n",
       "title                   0\n",
       "director          1264989\n",
       "cast               396075\n",
       "country            398854\n",
       "date_added           4734\n",
       "release_year            0\n",
       "classification          0\n",
       "listed_in               0\n",
       "description             0\n",
       "duration_int         1396\n",
       "duration_type        1396\n",
       "userId                  0\n",
       "rating                  0\n",
       "timestamp               0\n",
       "dtype: int64"
      ]
     },
     "execution_count": 19,
     "metadata": {},
     "output_type": "execute_result"
    }
   ],
   "source": [
    "platform_data.isna().sum()"
   ]
  },
  {
   "cell_type": "markdown",
   "metadata": {},
   "source": [
    "### PROBLEMA #01 Y PROBLEMA #02: NaN VALUES Y DTYPES MEZCLADOS EN LA COLUMNA CAST"
   ]
  },
  {
   "cell_type": "code",
   "execution_count": 20,
   "metadata": {
    "tags": []
   },
   "outputs": [],
   "source": [
    "#platform_data[platform_data['cast'].apply(lambda x: len(set(x.split(','))))]\n"
   ]
  },
  {
   "cell_type": "markdown",
   "metadata": {},
   "source": [
    "Este función de pandas nos entrega un error, pero el mensaje de error que devuelve nos ayuda a identificar el tipo de dato mezclado en la columna:\n",
    "\n",
    "`AttributeError: 'NoneType' object has no attribute 'split'`\n",
    "\n",
    "En el caso de los valores nulos en esta columna, se puede llegar a una solución relativamente fácil gracias a que no existen valores nulos en la columna de **title**, podemos encontrar el cast según el título."
   ]
  },
  {
   "cell_type": "markdown",
   "metadata": {},
   "source": [
    "Entremos ahora en la columna de **Country**"
   ]
  },
  {
   "cell_type": "code",
   "execution_count": 21,
   "metadata": {
    "tags": []
   },
   "outputs": [
    {
     "data": {
      "text/plain": [
       "country\n",
       "united states                            1352654\n",
       "india                                     466550\n",
       "united kingdom                            200754\n",
       "japan                                     117364\n",
       "south korea                                95274\n",
       "                                          ...   \n",
       "united kingdom, poland, united states        428\n",
       "sweden, united kingdom, finland              425\n",
       "united states, botswana                      423\n",
       "spain, belgium, united states                421\n",
       "spain, colombia                              416\n",
       "Name: count, Length: 748, dtype: int64"
      ]
     },
     "execution_count": 21,
     "metadata": {},
     "output_type": "execute_result"
    }
   ],
   "source": [
    "platform_data['country'].value_counts()"
   ]
  },
  {
   "cell_type": "markdown",
   "metadata": {},
   "source": [
    "Encontramos la misma situación que en la plataforma de Amazon Prime."
   ]
  },
  {
   "cell_type": "markdown",
   "metadata": {},
   "source": [
    "Vamos ahora con las columnas de **duration_int** y **durantion_type**"
   ]
  },
  {
   "cell_type": "code",
   "execution_count": 22,
   "metadata": {
    "tags": []
   },
   "outputs": [
    {
     "name": "stdout",
     "output_type": "stream",
     "text": [
      "<class 'pandas.core.frame.DataFrame'>\n",
      "RangeIndex: 4224861 entries, 0 to 4224860\n",
      "Data columns (total 16 columns):\n",
      " #   Column          Dtype  \n",
      "---  ------          -----  \n",
      " 0   movieId         object \n",
      " 1   type            object \n",
      " 2   title           object \n",
      " 3   director        object \n",
      " 4   cast            object \n",
      " 5   country         object \n",
      " 6   date_added      object \n",
      " 7   release_year    int64  \n",
      " 8   classification  object \n",
      " 9   listed_in       object \n",
      " 10  description     object \n",
      " 11  duration_int    object \n",
      " 12  duration_type   object \n",
      " 13  userId          int64  \n",
      " 14  rating          float64\n",
      " 15  timestamp       int64  \n",
      "dtypes: float64(1), int64(3), object(12)\n",
      "memory usage: 515.7+ MB\n"
     ]
    }
   ],
   "source": [
    "platform_data.info()"
   ]
  },
  {
   "cell_type": "markdown",
   "metadata": {},
   "source": [
    "Encontramos que la columna de **duration_int** es de tipo *object*; esto no es acorde a lo que debería mostrar; veamos sus valores."
   ]
  },
  {
   "cell_type": "code",
   "execution_count": 23,
   "metadata": {
    "tags": []
   },
   "outputs": [
    {
     "data": {
      "text/plain": [
       "array([90, 2, 1, 91, 125, 9, 104, 127, 4, 67, 94, 5, 161, 61, 166, 147,\n",
       "       103, 97, 106, 111, 3, 110, 105, 96, 124, 116, 98, 23, 115, 122, 99,\n",
       "       88, 100, 6, 102, 93, 95, 85, 83, 113, 13, 182, 48, 145, 87, 92, 80,\n",
       "       117, 128, 119, 143, 114, 118, 108, 63, 121, 142, 154, 120, 82, 109,\n",
       "       101, 86, 229, 76, 89, 156, 112, 107, 129, 135, 136, 165, 150, 133,\n",
       "       70, 84, 140, 78, 7, 64, 59, 139, 69, 148, 189, 141, 130, 138, 81,\n",
       "       132, 10, 123, 65, 68, 66, 62, 74, 131, 39, 46, 38, 8, 17, 126, 155,\n",
       "       159, 137, 12, 273, 36, 34, 77, 60, 49, 58, 72, 204, 212, 25, 73,\n",
       "       29, 47, 32, 35, 71, 149, 33, 15, 54, 224, 162, 37, 75, 79, 55, 158,\n",
       "       164, 173, 181, 185, 21, 24, 51, 151, 42, 22, 134, 177, 52, 14, 53,\n",
       "       57, 28, 50, 26, 45, 171, 27, 44, 146, 20, 157, 203, 41, 30, 194,\n",
       "       233, 237, 230, 195, 253, 152, 190, 160, 208, 180, 144, 174, 170,\n",
       "       192, 209, 187, 172, 16, 186, 11, 193, 176, 56, 169, 40, 168, 312,\n",
       "       153, 214, 31, 163, 19, <NA>, 179, 43, 200, 196, 167, 178, 228, 18,\n",
       "       205, 201, 191], dtype=object)"
      ]
     },
     "execution_count": 23,
     "metadata": {},
     "output_type": "execute_result"
    }
   ],
   "source": [
    "platform_data['duration_int'].unique()"
   ]
  },
  {
   "cell_type": "code",
   "execution_count": 24,
   "metadata": {
    "tags": []
   },
   "outputs": [
    {
     "data": {
      "text/plain": [
       "array(['min', 'seasons', 'season', None], dtype=object)"
      ]
     },
     "execution_count": 24,
     "metadata": {},
     "output_type": "execute_result"
    }
   ],
   "source": [
    "platform_data['duration_type'].unique()"
   ]
  },
  {
   "cell_type": "markdown",
   "metadata": {},
   "source": [
    "Existen valores nulos dentro de la columna y tambien podemos encontrar algunos valores atipicos:\n",
    "\n",
    "1. Es logico encontrar valores entre 1 y 12, ya muchas series populares pueden llegar a alcanzar ese numero de temporadas.\n",
    "2. Encontramos valores curiosos como 16, 19, 22, 31, etc... Que causan curiosidad, debido a como podemos ver en los valores unicos de **duration_type**, son muy pocos minutos para ser una pelicula y valores muy altos para ser el numero de temporadas de una serie. \n",
    "\n",
    "Veamoslo mas en detalle el punto 2."
   ]
  },
  {
   "cell_type": "code",
   "execution_count": 28,
   "metadata": {
    "tags": []
   },
   "outputs": [
    {
     "data": {
      "text/plain": [
       "233793"
      ]
     },
     "execution_count": 28,
     "metadata": {},
     "output_type": "execute_result"
    }
   ],
   "source": [
    "duration = platform_data[['title','duration_int', 'duration_type']].copy()\n",
    "duration_masked = (duration['duration_int'] >= 12) & (duration['duration_int'] <= 60)\n",
    "duration[duration_masked].shape[0]"
   ]
  },
  {
   "cell_type": "code",
   "execution_count": 33,
   "metadata": {
    "tags": []
   },
   "outputs": [
    {
     "data": {
      "image/png": "[encoded data removed]",
      "text/plain": [
       "<Figure size 800x550 with 1 Axes>"
      ]
     },
     "metadata": {},
     "output_type": "display_data"
    }
   ],
   "source": [
    "# Graficamos solo los valores de la columna1 que cumplen la condición\n",
    "plt.scatter(duration['duration_int'][duration_masked], duration['duration_type'][duration_masked])\n",
    "\n",
    "plt.xticks(np.arange(12, 62, 2))\n",
    "\n",
    "# Agregamos etiquetas a los ejes x e y y un título al gráfico\n",
    "plt.xlabel('duration_int')\n",
    "plt.ylabel('duration_type')\n",
    "plt.title('Gráfico de duration_int vs. duration_type')\n",
    "\n",
    "plt.show()"
   ]
  },
  {
   "cell_type": "markdown",
   "metadata": {},
   "source": [
    "- Segun esta grafica podemos encontrar contenido en minutos incluso menores a 1 hora, casi descartando de esta manera que sean peliculas.\n",
    "- Podemos ver que hay registros que llegan a las 17 temporadas.\n",
    "Veamos en especifico esto"
   ]
  },
  {
   "cell_type": "code",
   "execution_count": 34,
   "metadata": {
    "tags": []
   },
   "outputs": [
    {
     "data": {
      "text/plain": [
       "title                   duration_int  duration_type\n",
       "criminal minds          12            seasons          521\n",
       "heartland               13            seasons          509\n",
       "trailer park boys       12            seasons          493\n",
       "ncis                    15            seasons          492\n",
       "comedians of the world  13            seasons          491\n",
       "supernatural            15            seasons          460\n",
       "grey's anatomy          17            seasons          444\n",
       "red vs. blue            13            seasons          438\n",
       "Name: count, dtype: int64"
      ]
     },
     "execution_count": 34,
     "metadata": {},
     "output_type": "execute_result"
    }
   ],
   "source": [
    "duration.query(\"duration_int >= 12 & duration_type == 'seasons'\").value_counts()"
   ]
  },
  {
   "cell_type": "markdown",
   "metadata": {},
   "source": [
    "Gracias a esto podemos ver que estos valores de *seasons* tan largos son en realidad outliers debidos a series con muchas temporadas. **(17 temporadas??!!)**"
   ]
  },
  {
   "cell_type": "code",
   "execution_count": 35,
   "metadata": {
    "tags": []
   },
   "outputs": [
    {
     "data": {
      "text/plain": [
       "title                                              duration_int  duration_type\n",
       "leapfrog: sing-along, read-along                   32            min              558\n",
       "the first temptation of christ                     46            min              544\n",
       "thunderbolt                                        42            min              536\n",
       "meet the trumps: from immigrant to president       48            min              536\n",
       "felipe esparza: they're not going to laugh at you  58            min              536\n",
       "                                                                                 ... \n",
       "nova: extreme animal weapons                       53            min              429\n",
       "nova: prediction by the numbers                    53            min              426\n",
       "fadily camara : la plus drôle de tes copines       54            min              419\n",
       "el especial de alex fernández, el especial         52            min              408\n",
       "rob schneider: asian momma, mexican kids           44            min              399\n",
       "Name: count, Length: 487, dtype: int64"
      ]
     },
     "execution_count": 35,
     "metadata": {},
     "output_type": "execute_result"
    }
   ],
   "source": [
    "duration.query(\"duration_int <= 60 & duration_type == 'min'\").value_counts()"
   ]
  },
  {
   "cell_type": "markdown",
   "metadata": {},
   "source": [
    "Tomando como ejemplo el título de *\"Felipe Esparza: They're Not Going to Laugh at You\"*, pudimos identificarlo como un stand-up de comedia, lo cual es lógico que aparezca y nos da pie a concluir que estos outliers puedan ser en realidad documentales o contenido especial de un solo registro.\n",
    "\n",
    "\n",
    "\n"
   ]
  },
  {
   "cell_type": "code",
   "execution_count": 36,
   "metadata": {
    "tags": []
   },
   "outputs": [
    {
     "data": {
      "text/plain": [
       "title                                                                         duration_int  duration_type\n",
       "the road to el camino: behind the scenes of el camino: a breaking bad movie   14            min              522\n",
       "calico critters: everyone's big dream flying in the sky                       11            min              510\n",
       "the battle of midway                                                          18            min              506\n",
       "little miss sumo                                                              20            min              501\n",
       "if anything happens i love you                                                13            min              497\n",
       "one like it                                                                   15            min              490\n",
       "american factory: a conversation with the obamas                              10            min              488\n",
       "besieged bread                                                                12            min              488\n",
       "a love song for latasha                                                       20            min              486\n",
       "michael lost and found                                                        19            min              486\n",
       "creating the queen's gambit                                                   14            min              486\n",
       "the claudia kishi club                                                        17            min              485\n",
       "what did jack do?                                                             17            min              482\n",
       "john was trying to contact aliens                                             17            min              480\n",
       "canvas                                                                        9             min              480\n",
       "a storybots space adventure                                                   13            min              473\n",
       "sol levante                                                                   5             min              472\n",
       "aziza                                                                         13            min              471\n",
       "zion                                                                          12            min              470\n",
       "anima                                                                         15            min              460\n",
       "cosmos laundromat: first cycle                                                12            min              459\n",
       "ya no estoy aquí: una conversación entre guillermo del toro y alfonso cuarón  15            min              458\n",
       "pocoyo & cars                                                                 19            min              453\n",
       "sitara: let girls dream                                                       16            min              447\n",
       "buddy thunderstruck: the maybe pile                                           14            min              447\n",
       "cops and robbers                                                              8             min              441\n",
       "calico critters: a town of dreams                                             11            min              439\n",
       "silent                                                                        3             min              434\n",
       "Name: count, dtype: int64"
      ]
     },
     "execution_count": 36,
     "metadata": {},
     "output_type": "execute_result"
    }
   ],
   "source": [
    "duration.query(\"duration_int <= 20 & duration_type == 'min'\").value_counts()"
   ]
  },
  {
   "cell_type": "markdown",
   "metadata": {},
   "source": [
    "Tomando como ejemplo el título de *Silent*, podemos identificarlo como un cortometraje animado, lo que lleva a la conclusión de que estos registros con tiempos de duración tan pequeños pueden ser en realidad outliers y no errores como aparentaban al principio."
   ]
  },
  {
   "cell_type": "code",
   "execution_count": 37,
   "metadata": {
    "tags": []
   },
   "outputs": [
    {
     "data": {
      "text/plain": [
       "duration_int     1396\n",
       "duration_type    1396\n",
       "dtype: int64"
      ]
     },
     "execution_count": 37,
     "metadata": {},
     "output_type": "execute_result"
    }
   ],
   "source": [
    "platform_data[['duration_int', 'duration_type']].isna().sum()"
   ]
  },
  {
   "cell_type": "markdown",
   "metadata": {},
   "source": [
    "Hay varios datos perdidos en esta columna y esta particularidad de que el número de datos perdidos en ambos es exactamente el mismo, hizo pensar que puede haber algo fuera de lo común con las demás columnas. Efectivamente, se encontró una particularidad en la columna de **classification**"
   ]
  },
  {
   "cell_type": "code",
   "execution_count": 38,
   "metadata": {
    "tags": []
   },
   "outputs": [
    {
     "data": {
      "text/plain": [
       "array(['pg-13', 'tv-ma', 'pg', 'tv-14', 'tv-pg', 'tv-y', 'tv-y7', 'r',\n",
       "       'tv-g', 'g', 'nc-17', '74 min', '84 min', '66 min', 'nr',\n",
       "       'tv-y7-fv', 'ur'], dtype=object)"
      ]
     },
     "execution_count": 38,
     "metadata": {},
     "output_type": "execute_result"
    }
   ],
   "source": [
    "platform_data['classification'].unique()"
   ]
  },
  {
   "cell_type": "markdown",
   "metadata": {},
   "source": [
    "Para llenar los datos faltantes en estas registros de **duration_int** y **duration_type** es necesario extraer la data faltante de esta columna."
   ]
  },
  {
   "cell_type": "markdown",
   "metadata": {},
   "source": [
    "### DISNEY+"
   ]
  },
  {
   "cell_type": "code",
   "execution_count": 39,
   "metadata": {
    "tags": []
   },
   "outputs": [
    {
     "data": {
      "text/plain": [
       "(694790, 16)"
      ]
     },
     "execution_count": 39,
     "metadata": {},
     "output_type": "execute_result"
    }
   ],
   "source": [
    "platform_data = df_dict['disney_plus']\n",
    "platform_data.shape"
   ]
  },
  {
   "cell_type": "code",
   "execution_count": 40,
   "metadata": {
    "tags": []
   },
   "outputs": [
    {
     "name": "stdout",
     "output_type": "stream",
     "text": [
      "    Since nrows is smaller than dataset, loading random sample of 150000 rows into pandas...\n",
      "Shape of your Data Set loaded: (150000, 16)\n",
      "#######################################################################################\n",
      "######################## C L A S S I F Y I N G  V A R I A B L E S  ####################\n",
      "#######################################################################################\n",
      "Classifying variables in data set...\n",
      "Data cleaning improvement suggestions. Complete them before proceeding to ML modeling.\n"
     ]
    },
    {
     "data": {
      "text/html": [
       "<style type=\"text/css\">\n",
       "#T_cb779_row0_col0, #T_cb779_row0_col4, #T_cb779_row6_col2, #T_cb779_row6_col3, #T_cb779_row15_col5 {\n",
       "  background-color: #67000d;\n",
       "  color: #f1f1f1;\n",
       "  font-family: Segoe UI;\n",
       "}\n",
       "#T_cb779_row0_col1, #T_cb779_row0_col6, #T_cb779_row1_col1, #T_cb779_row1_col6, #T_cb779_row2_col1, #T_cb779_row2_col6, #T_cb779_row3_col1, #T_cb779_row3_col6, #T_cb779_row4_col1, #T_cb779_row4_col6, #T_cb779_row5_col1, #T_cb779_row5_col6, #T_cb779_row6_col1, #T_cb779_row6_col6, #T_cb779_row7_col1, #T_cb779_row7_col6, #T_cb779_row8_col1, #T_cb779_row8_col6, #T_cb779_row9_col1, #T_cb779_row9_col6, #T_cb779_row10_col1, #T_cb779_row10_col6, #T_cb779_row11_col1, #T_cb779_row11_col6, #T_cb779_row12_col1, #T_cb779_row12_col6, #T_cb779_row13_col1, #T_cb779_row13_col6, #T_cb779_row14_col1, #T_cb779_row14_col6, #T_cb779_row15_col1, #T_cb779_row15_col6 {\n",
       "  font-family: Segoe UI;\n",
       "}\n",
       "#T_cb779_row0_col2, #T_cb779_row0_col3, #T_cb779_row0_col5, #T_cb779_row1_col2, #T_cb779_row1_col3, #T_cb779_row1_col5, #T_cb779_row2_col2, #T_cb779_row2_col3, #T_cb779_row2_col5, #T_cb779_row3_col2, #T_cb779_row3_col3, #T_cb779_row3_col5, #T_cb779_row4_col2, #T_cb779_row4_col3, #T_cb779_row4_col5, #T_cb779_row5_col5, #T_cb779_row6_col5, #T_cb779_row7_col2, #T_cb779_row7_col3, #T_cb779_row7_col5, #T_cb779_row8_col5, #T_cb779_row9_col2, #T_cb779_row9_col3, #T_cb779_row9_col5, #T_cb779_row10_col2, #T_cb779_row10_col3, #T_cb779_row10_col5, #T_cb779_row11_col5, #T_cb779_row12_col0, #T_cb779_row12_col2, #T_cb779_row12_col3, #T_cb779_row12_col4, #T_cb779_row12_col5, #T_cb779_row13_col0, #T_cb779_row13_col2, #T_cb779_row13_col3, #T_cb779_row13_col4, #T_cb779_row14_col0, #T_cb779_row14_col2, #T_cb779_row14_col3, #T_cb779_row14_col4, #T_cb779_row15_col0, #T_cb779_row15_col2, #T_cb779_row15_col3, #T_cb779_row15_col4 {\n",
       "  background-color: #fff5f0;\n",
       "  color: #000000;\n",
       "  font-family: Segoe UI;\n",
       "}\n",
       "#T_cb779_row1_col0, #T_cb779_row1_col4 {\n",
       "  background-color: #b21218;\n",
       "  color: #f1f1f1;\n",
       "  font-family: Segoe UI;\n",
       "}\n",
       "#T_cb779_row2_col0, #T_cb779_row2_col4, #T_cb779_row3_col0, #T_cb779_row3_col4 {\n",
       "  background-color: #fedaca;\n",
       "  color: #000000;\n",
       "  font-family: Segoe UI;\n",
       "}\n",
       "#T_cb779_row4_col0, #T_cb779_row4_col4 {\n",
       "  background-color: #fedbcc;\n",
       "  color: #000000;\n",
       "  font-family: Segoe UI;\n",
       "}\n",
       "#T_cb779_row5_col0, #T_cb779_row5_col4 {\n",
       "  background-color: #fee1d4;\n",
       "  color: #000000;\n",
       "  font-family: Segoe UI;\n",
       "}\n",
       "#T_cb779_row5_col2, #T_cb779_row5_col3 {\n",
       "  background-color: #fc8d6d;\n",
       "  color: #f1f1f1;\n",
       "  font-family: Segoe UI;\n",
       "}\n",
       "#T_cb779_row6_col0, #T_cb779_row6_col4 {\n",
       "  background-color: #ffebe2;\n",
       "  color: #000000;\n",
       "  font-family: Segoe UI;\n",
       "}\n",
       "#T_cb779_row7_col0, #T_cb779_row7_col4 {\n",
       "  background-color: #fff0e8;\n",
       "  color: #000000;\n",
       "  font-family: Segoe UI;\n",
       "}\n",
       "#T_cb779_row8_col0, #T_cb779_row8_col4 {\n",
       "  background-color: #fff2ec;\n",
       "  color: #000000;\n",
       "  font-family: Segoe UI;\n",
       "}\n",
       "#T_cb779_row8_col2, #T_cb779_row8_col3 {\n",
       "  background-color: #fff4ef;\n",
       "  color: #000000;\n",
       "  font-family: Segoe UI;\n",
       "}\n",
       "#T_cb779_row9_col0, #T_cb779_row9_col4 {\n",
       "  background-color: #fff3ed;\n",
       "  color: #000000;\n",
       "  font-family: Segoe UI;\n",
       "}\n",
       "#T_cb779_row10_col0, #T_cb779_row10_col4, #T_cb779_row11_col0, #T_cb779_row11_col4 {\n",
       "  background-color: #fff4ee;\n",
       "  color: #000000;\n",
       "  font-family: Segoe UI;\n",
       "}\n",
       "#T_cb779_row11_col2, #T_cb779_row11_col3 {\n",
       "  background-color: #fb7b5b;\n",
       "  color: #f1f1f1;\n",
       "  font-family: Segoe UI;\n",
       "}\n",
       "#T_cb779_row13_col5 {\n",
       "  background-color: #fff0e9;\n",
       "  color: #000000;\n",
       "  font-family: Segoe UI;\n",
       "}\n",
       "#T_cb779_row14_col5 {\n",
       "  background-color: #fb7555;\n",
       "  color: #f1f1f1;\n",
       "  font-family: Segoe UI;\n",
       "}\n",
       "</style>\n",
       "<table id=\"T_cb779\">\n",
       "  <thead>\n",
       "    <tr>\n",
       "      <th class=\"blank level0\" >&nbsp;</th>\n",
       "      <th id=\"T_cb779_level0_col0\" class=\"col_heading level0 col0\" >Nuniques</th>\n",
       "      <th id=\"T_cb779_level0_col1\" class=\"col_heading level0 col1\" >dtype</th>\n",
       "      <th id=\"T_cb779_level0_col2\" class=\"col_heading level0 col2\" >Nulls</th>\n",
       "      <th id=\"T_cb779_level0_col3\" class=\"col_heading level0 col3\" >Nullpercent</th>\n",
       "      <th id=\"T_cb779_level0_col4\" class=\"col_heading level0 col4\" >NuniquePercent</th>\n",
       "      <th id=\"T_cb779_level0_col5\" class=\"col_heading level0 col5\" >Value counts Min</th>\n",
       "      <th id=\"T_cb779_level0_col6\" class=\"col_heading level0 col6\" >Data cleaning improvement suggestions</th>\n",
       "    </tr>\n",
       "  </thead>\n",
       "  <tbody>\n",
       "    <tr>\n",
       "      <th id=\"T_cb779_level0_row0\" class=\"row_heading level0 row0\" >timestamp</th>\n",
       "      <td id=\"T_cb779_row0_col0\" class=\"data row0 col0\" >9996</td>\n",
       "      <td id=\"T_cb779_row0_col1\" class=\"data row0 col1\" >int64</td>\n",
       "      <td id=\"T_cb779_row0_col2\" class=\"data row0 col2\" >0</td>\n",
       "      <td id=\"T_cb779_row0_col3\" class=\"data row0 col3\" >0.000000</td>\n",
       "      <td id=\"T_cb779_row0_col4\" class=\"data row0 col4\" >99.960000</td>\n",
       "      <td id=\"T_cb779_row0_col5\" class=\"data row0 col5\" >0</td>\n",
       "      <td id=\"T_cb779_row0_col6\" class=\"data row0 col6\" ></td>\n",
       "    </tr>\n",
       "    <tr>\n",
       "      <th id=\"T_cb779_level0_row1\" class=\"row_heading level0 row1\" >userId</th>\n",
       "      <td id=\"T_cb779_row1_col0\" class=\"data row1 col0\" >8313</td>\n",
       "      <td id=\"T_cb779_row1_col1\" class=\"data row1 col1\" >int64</td>\n",
       "      <td id=\"T_cb779_row1_col2\" class=\"data row1 col2\" >0</td>\n",
       "      <td id=\"T_cb779_row1_col3\" class=\"data row1 col3\" >0.000000</td>\n",
       "      <td id=\"T_cb779_row1_col4\" class=\"data row1 col4\" >83.130000</td>\n",
       "      <td id=\"T_cb779_row1_col5\" class=\"data row1 col5\" >0</td>\n",
       "      <td id=\"T_cb779_row1_col6\" class=\"data row1 col6\" ></td>\n",
       "    </tr>\n",
       "    <tr>\n",
       "      <th id=\"T_cb779_level0_row2\" class=\"row_heading level0 row2\" >movieId</th>\n",
       "      <td id=\"T_cb779_row2_col0\" class=\"data row2 col0\" >1447</td>\n",
       "      <td id=\"T_cb779_row2_col1\" class=\"data row2 col1\" >object</td>\n",
       "      <td id=\"T_cb779_row2_col2\" class=\"data row2 col2\" >0</td>\n",
       "      <td id=\"T_cb779_row2_col3\" class=\"data row2 col3\" >0.000000</td>\n",
       "      <td id=\"T_cb779_row2_col4\" class=\"data row2 col4\" >14.470000</td>\n",
       "      <td id=\"T_cb779_row2_col5\" class=\"data row2 col5\" >1</td>\n",
       "      <td id=\"T_cb779_row2_col6\" class=\"data row2 col6\" >combine rare categories</td>\n",
       "    </tr>\n",
       "    <tr>\n",
       "      <th id=\"T_cb779_level0_row3\" class=\"row_heading level0 row3\" >title</th>\n",
       "      <td id=\"T_cb779_row3_col0\" class=\"data row3 col0\" >1447</td>\n",
       "      <td id=\"T_cb779_row3_col1\" class=\"data row3 col1\" >object</td>\n",
       "      <td id=\"T_cb779_row3_col2\" class=\"data row3 col2\" >0</td>\n",
       "      <td id=\"T_cb779_row3_col3\" class=\"data row3 col3\" >0.000000</td>\n",
       "      <td id=\"T_cb779_row3_col4\" class=\"data row3 col4\" >14.470000</td>\n",
       "      <td id=\"T_cb779_row3_col5\" class=\"data row3 col5\" >1</td>\n",
       "      <td id=\"T_cb779_row3_col6\" class=\"data row3 col6\" >combine rare categories</td>\n",
       "    </tr>\n",
       "    <tr>\n",
       "      <th id=\"T_cb779_level0_row4\" class=\"row_heading level0 row4\" >description</th>\n",
       "      <td id=\"T_cb779_row4_col0\" class=\"data row4 col0\" >1445</td>\n",
       "      <td id=\"T_cb779_row4_col1\" class=\"data row4 col1\" >object</td>\n",
       "      <td id=\"T_cb779_row4_col2\" class=\"data row4 col2\" >0</td>\n",
       "      <td id=\"T_cb779_row4_col3\" class=\"data row4 col3\" >0.000000</td>\n",
       "      <td id=\"T_cb779_row4_col4\" class=\"data row4 col4\" >14.450000</td>\n",
       "      <td id=\"T_cb779_row4_col5\" class=\"data row4 col5\" >1</td>\n",
       "      <td id=\"T_cb779_row4_col6\" class=\"data row4 col6\" >combine rare categories</td>\n",
       "    </tr>\n",
       "    <tr>\n",
       "      <th id=\"T_cb779_level0_row5\" class=\"row_heading level0 row5\" >cast</th>\n",
       "      <td id=\"T_cb779_row5_col0\" class=\"data row5 col0\" >1190</td>\n",
       "      <td id=\"T_cb779_row5_col1\" class=\"data row5 col1\" >object</td>\n",
       "      <td id=\"T_cb779_row5_col2\" class=\"data row5 col2\" >1297</td>\n",
       "      <td id=\"T_cb779_row5_col3\" class=\"data row5 col3\" >12.970000</td>\n",
       "      <td id=\"T_cb779_row5_col4\" class=\"data row5 col4\" >11.900000</td>\n",
       "      <td id=\"T_cb779_row5_col5\" class=\"data row5 col5\" >1</td>\n",
       "      <td id=\"T_cb779_row5_col6\" class=\"data row5 col6\" >combine rare categories, fill missing, fix mixed data types</td>\n",
       "    </tr>\n",
       "    <tr>\n",
       "      <th id=\"T_cb779_level0_row6\" class=\"row_heading level0 row6\" >director</th>\n",
       "      <td id=\"T_cb779_row6_col0\" class=\"data row6 col0\" >607</td>\n",
       "      <td id=\"T_cb779_row6_col1\" class=\"data row6 col1\" >object</td>\n",
       "      <td id=\"T_cb779_row6_col2\" class=\"data row6 col2\" >3288</td>\n",
       "      <td id=\"T_cb779_row6_col3\" class=\"data row6 col3\" >32.880000</td>\n",
       "      <td id=\"T_cb779_row6_col4\" class=\"data row6 col4\" >6.070000</td>\n",
       "      <td id=\"T_cb779_row6_col5\" class=\"data row6 col5\" >1</td>\n",
       "      <td id=\"T_cb779_row6_col6\" class=\"data row6 col6\" >combine rare categories, fill missing, fix mixed data types</td>\n",
       "    </tr>\n",
       "    <tr>\n",
       "      <th id=\"T_cb779_level0_row7\" class=\"row_heading level0 row7\" >listed_in</th>\n",
       "      <td id=\"T_cb779_row7_col0\" class=\"data row7 col0\" >329</td>\n",
       "      <td id=\"T_cb779_row7_col1\" class=\"data row7 col1\" >object</td>\n",
       "      <td id=\"T_cb779_row7_col2\" class=\"data row7 col2\" >0</td>\n",
       "      <td id=\"T_cb779_row7_col3\" class=\"data row7 col3\" >0.000000</td>\n",
       "      <td id=\"T_cb779_row7_col4\" class=\"data row7 col4\" >3.290000</td>\n",
       "      <td id=\"T_cb779_row7_col5\" class=\"data row7 col5\" >1</td>\n",
       "      <td id=\"T_cb779_row7_col6\" class=\"data row7 col6\" >combine rare categories</td>\n",
       "    </tr>\n",
       "    <tr>\n",
       "      <th id=\"T_cb779_level0_row8\" class=\"row_heading level0 row8\" >date_added</th>\n",
       "      <td id=\"T_cb779_row8_col0\" class=\"data row8 col0\" >167</td>\n",
       "      <td id=\"T_cb779_row8_col1\" class=\"data row8 col1\" >object</td>\n",
       "      <td id=\"T_cb779_row8_col2\" class=\"data row8 col2\" >14</td>\n",
       "      <td id=\"T_cb779_row8_col3\" class=\"data row8 col3\" >0.140000</td>\n",
       "      <td id=\"T_cb779_row8_col4\" class=\"data row8 col4\" >1.670000</td>\n",
       "      <td id=\"T_cb779_row8_col5\" class=\"data row8 col5\" >2</td>\n",
       "      <td id=\"T_cb779_row8_col6\" class=\"data row8 col6\" >combine rare categories, fill missing, fix mixed data types</td>\n",
       "    </tr>\n",
       "    <tr>\n",
       "      <th id=\"T_cb779_level0_row9\" class=\"row_heading level0 row9\" >duration_int</th>\n",
       "      <td id=\"T_cb779_row9_col0\" class=\"data row9 col0\" >146</td>\n",
       "      <td id=\"T_cb779_row9_col1\" class=\"data row9 col1\" >int64</td>\n",
       "      <td id=\"T_cb779_row9_col2\" class=\"data row9 col2\" >0</td>\n",
       "      <td id=\"T_cb779_row9_col3\" class=\"data row9 col3\" >0.000000</td>\n",
       "      <td id=\"T_cb779_row9_col4\" class=\"data row9 col4\" >1.460000</td>\n",
       "      <td id=\"T_cb779_row9_col5\" class=\"data row9 col5\" >0</td>\n",
       "      <td id=\"T_cb779_row9_col6\" class=\"data row9 col6\" ></td>\n",
       "    </tr>\n",
       "    <tr>\n",
       "      <th id=\"T_cb779_level0_row10\" class=\"row_heading level0 row10\" >release_year</th>\n",
       "      <td id=\"T_cb779_row10_col0\" class=\"data row10 col0\" >90</td>\n",
       "      <td id=\"T_cb779_row10_col1\" class=\"data row10 col1\" >int64</td>\n",
       "      <td id=\"T_cb779_row10_col2\" class=\"data row10 col2\" >0</td>\n",
       "      <td id=\"T_cb779_row10_col3\" class=\"data row10 col3\" >0.000000</td>\n",
       "      <td id=\"T_cb779_row10_col4\" class=\"data row10 col4\" >0.900000</td>\n",
       "      <td id=\"T_cb779_row10_col5\" class=\"data row10 col5\" >0</td>\n",
       "      <td id=\"T_cb779_row10_col6\" class=\"data row10 col6\" ></td>\n",
       "    </tr>\n",
       "    <tr>\n",
       "      <th id=\"T_cb779_level0_row11\" class=\"row_heading level0 row11\" >country</th>\n",
       "      <td id=\"T_cb779_row11_col0\" class=\"data row11 col0\" >89</td>\n",
       "      <td id=\"T_cb779_row11_col1\" class=\"data row11 col1\" >object</td>\n",
       "      <td id=\"T_cb779_row11_col2\" class=\"data row11 col2\" >1477</td>\n",
       "      <td id=\"T_cb779_row11_col3\" class=\"data row11 col3\" >14.770000</td>\n",
       "      <td id=\"T_cb779_row11_col4\" class=\"data row11 col4\" >0.890000</td>\n",
       "      <td id=\"T_cb779_row11_col5\" class=\"data row11 col5\" >2</td>\n",
       "      <td id=\"T_cb779_row11_col6\" class=\"data row11 col6\" >combine rare categories, fill missing, fix mixed data types</td>\n",
       "    </tr>\n",
       "    <tr>\n",
       "      <th id=\"T_cb779_level0_row12\" class=\"row_heading level0 row12\" >rating</th>\n",
       "      <td id=\"T_cb779_row12_col0\" class=\"data row12 col0\" >10</td>\n",
       "      <td id=\"T_cb779_row12_col1\" class=\"data row12 col1\" >float64</td>\n",
       "      <td id=\"T_cb779_row12_col2\" class=\"data row12 col2\" >0</td>\n",
       "      <td id=\"T_cb779_row12_col3\" class=\"data row12 col3\" >0.000000</td>\n",
       "      <td id=\"T_cb779_row12_col4\" class=\"data row12 col4\" >0.100000</td>\n",
       "      <td id=\"T_cb779_row12_col5\" class=\"data row12 col5\" >0</td>\n",
       "      <td id=\"T_cb779_row12_col6\" class=\"data row12 col6\" ></td>\n",
       "    </tr>\n",
       "    <tr>\n",
       "      <th id=\"T_cb779_level0_row13\" class=\"row_heading level0 row13\" >classification</th>\n",
       "      <td id=\"T_cb779_row13_col0\" class=\"data row13 col0\" >9</td>\n",
       "      <td id=\"T_cb779_row13_col1\" class=\"data row13 col1\" >object</td>\n",
       "      <td id=\"T_cb779_row13_col2\" class=\"data row13 col2\" >0</td>\n",
       "      <td id=\"T_cb779_row13_col3\" class=\"data row13 col3\" >0.000000</td>\n",
       "      <td id=\"T_cb779_row13_col4\" class=\"data row13 col4\" >0.090000</td>\n",
       "      <td id=\"T_cb779_row13_col5\" class=\"data row13 col5\" >86</td>\n",
       "      <td id=\"T_cb779_row13_col6\" class=\"data row13 col6\" ></td>\n",
       "    </tr>\n",
       "    <tr>\n",
       "      <th id=\"T_cb779_level0_row14\" class=\"row_heading level0 row14\" >duration_type</th>\n",
       "      <td id=\"T_cb779_row14_col0\" class=\"data row14 col0\" >3</td>\n",
       "      <td id=\"T_cb779_row14_col1\" class=\"data row14 col1\" >object</td>\n",
       "      <td id=\"T_cb779_row14_col2\" class=\"data row14 col2\" >0</td>\n",
       "      <td id=\"T_cb779_row14_col3\" class=\"data row14 col3\" >0.000000</td>\n",
       "      <td id=\"T_cb779_row14_col4\" class=\"data row14 col4\" >0.030000</td>\n",
       "      <td id=\"T_cb779_row14_col5\" class=\"data row14 col5\" >1317</td>\n",
       "      <td id=\"T_cb779_row14_col6\" class=\"data row14 col6\" ></td>\n",
       "    </tr>\n",
       "    <tr>\n",
       "      <th id=\"T_cb779_level0_row15\" class=\"row_heading level0 row15\" >type</th>\n",
       "      <td id=\"T_cb779_row15_col0\" class=\"data row15 col0\" >2</td>\n",
       "      <td id=\"T_cb779_row15_col1\" class=\"data row15 col1\" >object</td>\n",
       "      <td id=\"T_cb779_row15_col2\" class=\"data row15 col2\" >0</td>\n",
       "      <td id=\"T_cb779_row15_col3\" class=\"data row15 col3\" >0.000000</td>\n",
       "      <td id=\"T_cb779_row15_col4\" class=\"data row15 col4\" >0.020000</td>\n",
       "      <td id=\"T_cb779_row15_col5\" class=\"data row15 col5\" >2816</td>\n",
       "      <td id=\"T_cb779_row15_col6\" class=\"data row15 col6\" ></td>\n",
       "    </tr>\n",
       "  </tbody>\n",
       "</table>\n"
      ],
      "text/plain": [
       "<pandas.io.formats.style.Styler at 0x2b3394852b0>"
      ]
     },
     "metadata": {},
     "output_type": "display_data"
    },
    {
     "name": "stdout",
     "output_type": "stream",
     "text": [
      "    16 Predictors classified...\n",
      "        No variables removed since no ID or low-information variables found in data set\n",
      "Since Number of Rows in data 150000 exceeds maximum, randomly sampling 150000 rows for EDA...\n",
      "Could not find given target var in data set. Please check input\n",
      "Not able to read or load file. Please check your inputs and try again...\n"
     ]
    }
   ],
   "source": [
    "AV.AutoViz(filename=\"\", sep=',', depVar='target', dfte=platform_data, header=0, verbose=1, \n",
    "           lowess=False, chart_format='svg', max_rows_analyzed=150000, max_cols_analyzed=20)"
   ]
  },
  {
   "cell_type": "markdown",
   "metadata": {},
   "source": [
    "Aplicaremos los mismos criterios de análisis que en los DataSets anteriores, con un enfoque en las columnas que están directamente relacionadas con los puntos finales de la API:\n",
    "\n",
    "1. Tipos de datos mezclados en columnas importantes como el **cast** y **country**.\n",
    "2. Datos faltantes en estas mismas columnas."
   ]
  },
  {
   "cell_type": "code",
   "execution_count": 41,
   "metadata": {
    "tags": []
   },
   "outputs": [
    {
     "data": {
      "text/plain": [
       "movieId                0\n",
       "type                   0\n",
       "title                  0\n",
       "director          226798\n",
       "cast               90666\n",
       "country           105004\n",
       "date_added          1524\n",
       "release_year           0\n",
       "classification         0\n",
       "listed_in              0\n",
       "description            0\n",
       "duration_int           0\n",
       "duration_type          0\n",
       "userId                 0\n",
       "rating                 0\n",
       "timestamp              0\n",
       "dtype: int64"
      ]
     },
     "execution_count": 41,
     "metadata": {},
     "output_type": "execute_result"
    }
   ],
   "source": [
    "platform_data.isna().sum()"
   ]
  },
  {
   "cell_type": "markdown",
   "metadata": {},
   "source": [
    "#### PROBLEMA #01 Y 02: DATOS FALTANTES Y TIPO DE DATOS MEZCLADOS"
   ]
  },
  {
   "cell_type": "code",
   "execution_count": 42,
   "metadata": {
    "tags": []
   },
   "outputs": [],
   "source": [
    "key_data = platform_data[['cast', 'country', 'release_year']].copy()"
   ]
  },
  {
   "cell_type": "markdown",
   "metadata": {},
   "source": [
    "Veamos primero los datos mezclados"
   ]
  },
  {
   "cell_type": "code",
   "execution_count": 46,
   "metadata": {
    "tags": []
   },
   "outputs": [
    {
     "name": "stdout",
     "output_type": "stream",
     "text": [
      "0 chris diamantopoulos, tony anselmo, tress macneille, bill farmer, russi taylor, corey burton\n",
      "1 jim varney, noelle parker, douglas seale\n",
      "2 raymond albert romano, john leguizamo, denis leary, queen latifah\n",
      "3 darren criss, adam lambert, derek hough, alexander jean, fall out boy, jimmie allen\n",
      "4 john lennon, paul mccartney, george harrison, ringo starr\n",
      "5 jacques yves cousteau, vincent cassel\n",
      "6 jeremy renner, hailee steinfeld, vera farmiga, fra fee, tony dalton, zahn mcclarnon\n",
      "7 gary muehlberger, mary miller, curly leach, sam carlson, stuart andrews, david squibb\n",
      "8 dr. ray ball, dr. lauren smith, chris massaro, tiffany burns, mike burns, melinda mendolusky\n",
      "9 steve whitmire, dave goelz, bill barretta, eric jacobson\n",
      "10 don hahn, kathryn beaumont, pete docter, kevin feige, mark hamill, bob iger\n",
      "11 None\n",
      "12 stacy keach, john lasseter, brad bird, john musker, ron clements, frank thomas\n",
      "13 dr. michelle oakley, zachary fine\n",
      "14 michael b. jordan\n",
      "15 jack dylan grazer, marco barricelli\n",
      "16 mia jenness, alyson hannigan, rob riggle, spencer moss, dana heath\n",
      "17 carolina domenech, josé jiménez zapiola, kevsho, elena roger, clara alonso, emilia mernes\n",
      "18 amy adams, patrick dempsey, james marsden, timothy spall, idina menzel, susan sarandon\n",
      "19 stephen apostolina, kirk baily, ben bledsoe, david cowgill, terri douglas, fuschia!\n"
     ]
    }
   ],
   "source": [
    "for i, value in enumerate(key_data['cast'].unique()):\n",
    "    print(i, value)\n",
    "    if i == 19:\n",
    "        break"
   ]
  },
  {
   "cell_type": "markdown",
   "metadata": {},
   "source": [
    "De esta forma podemos identificar en el indice 11 un valor None, el cual puede ser la razón de los valores faltantes."
   ]
  },
  {
   "cell_type": "code",
   "execution_count": 47,
   "metadata": {
    "tags": []
   },
   "outputs": [
    {
     "data": {
      "text/plain": [
       "array([None, 'united states', 'united states, canada',\n",
       "       'united states, australia', 'canada',\n",
       "       'united states, united kingdom', 'united states, south korea',\n",
       "       'ireland, united states, canada, united kingdom, denmark, spain, poland, hungary',\n",
       "       'france, united kingdom', 'united kingdom, australia',\n",
       "       'ireland, united states', 'canada, united states, france',\n",
       "       'france, south korea, japan, united states', 'france',\n",
       "       'united states, united kingdom, hungary', 'united states, germany',\n",
       "       'united states, united kingdom, australia', 'united states, india',\n",
       "       'united states, canada, united kingdom, singapore, australia, thailand',\n",
       "       'canada, united states',\n",
       "       'south korea, united states, china, japan',\n",
       "       'australia, united kingdom', 'united kingdom',\n",
       "       'united states, united kingdom, south korea',\n",
       "       'united states, united kingdom, canada',\n",
       "       'united states, germany, united kingdom',\n",
       "       'united states, canada, ireland', 'united states, brazil',\n",
       "       'united kingdom, united states',\n",
       "       'united kingdom, united states, canada, ireland',\n",
       "       'united states, united kingdom, belgium, canada',\n",
       "       'austria, south africa', 'united states, japan',\n",
       "       'united states, spain', 'united kingdom, united states, france',\n",
       "       'united states, canada, hong kong', 'argentina',\n",
       "       'united arab emirates', 'united states, mexico',\n",
       "       'france, switzerland, spain, united states, united arab emirates',\n",
       "       'united kingdom, france', 'argentina, mexico', 'india',\n",
       "       'france, japan', 'united kingdom, canada, united states',\n",
       "       'united states, ireland', 'france, united kingdom, united states',\n",
       "       'united kingdom, united states, canada',\n",
       "       'united states, germany, ireland, united kingdom',\n",
       "       'united states, united kingdom, south africa',\n",
       "       'united kingdom, united states, ireland', 'france, united states',\n",
       "       'ireland, united kingdom, united states, south korea, canada',\n",
       "       'united states, south korea, france',\n",
       "       'united states, australia, france, canada',\n",
       "       'united states, hungary, united kingdom',\n",
       "       'united states, hong kong, south korea, france, canada, china, united kingdom, australia, japan, taiwan, philippines',\n",
       "       'united states, taiwan, south korea, china, japan, united kingdom',\n",
       "       'germany, united states', 'united kingdom, germany',\n",
       "       'united states, philippines, south korea',\n",
       "       'united kingdom, china, united states', 'tanzania, united states',\n",
       "       'united states, panama, mexico',\n",
       "       'united states, united kingdom, australia, canada',\n",
       "       'united states, france',\n",
       "       'united states, angola, botswana, namibia, south africa',\n",
       "       'canada, united states, united kingdom, france, luxembourg',\n",
       "       'australia, united states', 'united states, denmark',\n",
       "       'denmark, china', 'united states, guatemala',\n",
       "       'united states, south korea, singapore, russia, malaysia, kazakhstan, taiwan, hong kong, japan, china, india, syria, iran, egypt, pakistan',\n",
       "       'united states, canada, australia',\n",
       "       'united states, south korea, china, taiwan',\n",
       "       'united states, taiwan, china', 'united states, new zealand',\n",
       "       'canada, malaysia, united states',\n",
       "       'united states, india, united kingdom',\n",
       "       'norway, sweden, united states', 'france, canada, united states',\n",
       "       'united states, poland, slovenia, czech republic, united kingdom',\n",
       "       'united states, canada, australia, taiwan',\n",
       "       'china, hong kong, united states',\n",
       "       'austria, united kingdom, united states', 'china', 'germany',\n",
       "       'new zealand, united states',\n",
       "       'united states, spain, france, canada, united kingdom',\n",
       "       'united kingdom, germany, united states'], dtype=object)"
      ]
     },
     "execution_count": 47,
     "metadata": {},
     "output_type": "execute_result"
    }
   ],
   "source": [
    "key_data['country'].unique()"
   ]
  },
  {
   "cell_type": "markdown",
   "metadata": {},
   "source": [
    "Podemos encontrar el mismo error que en los DataSets anteriores."
   ]
  },
  {
   "cell_type": "markdown",
   "metadata": {},
   "source": [
    "### HULU"
   ]
  },
  {
   "cell_type": "code",
   "execution_count": 48,
   "metadata": {
    "tags": []
   },
   "outputs": [
    {
     "data": {
      "text/plain": [
       "(1472788, 16)"
      ]
     },
     "execution_count": 48,
     "metadata": {},
     "output_type": "execute_result"
    }
   ],
   "source": [
    "platform_data = df_dict['hulu']\n",
    "\n",
    "platform_data.shape"
   ]
  },
  {
   "cell_type": "code",
   "execution_count": 49,
   "metadata": {
    "tags": []
   },
   "outputs": [
    {
     "name": "stdout",
     "output_type": "stream",
     "text": [
      "    Since nrows is smaller than dataset, loading random sample of 150000 rows into pandas...\n",
      "Shape of your Data Set loaded: (150000, 16)\n",
      "#######################################################################################\n",
      "######################## C L A S S I F Y I N G  V A R I A B L E S  ####################\n",
      "#######################################################################################\n",
      "Classifying variables in data set...\n",
      "Data cleaning improvement suggestions. Complete them before proceeding to ML modeling.\n"
     ]
    },
    {
     "data": {
      "text/html": [
       "<style type=\"text/css\">\n",
       "#T_74ade_row0_col0, #T_74ade_row0_col4, #T_74ade_row12_col2, #T_74ade_row12_col3, #T_74ade_row14_col5, #T_74ade_row15_col2, #T_74ade_row15_col3 {\n",
       "  background-color: #67000d;\n",
       "  color: #f1f1f1;\n",
       "  font-family: Segoe UI;\n",
       "}\n",
       "#T_74ade_row0_col1, #T_74ade_row0_col6, #T_74ade_row1_col1, #T_74ade_row1_col6, #T_74ade_row2_col1, #T_74ade_row2_col6, #T_74ade_row3_col1, #T_74ade_row3_col6, #T_74ade_row4_col1, #T_74ade_row4_col6, #T_74ade_row5_col1, #T_74ade_row5_col6, #T_74ade_row6_col1, #T_74ade_row6_col6, #T_74ade_row7_col1, #T_74ade_row7_col6, #T_74ade_row8_col1, #T_74ade_row8_col6, #T_74ade_row9_col1, #T_74ade_row9_col6, #T_74ade_row10_col1, #T_74ade_row10_col6, #T_74ade_row11_col1, #T_74ade_row11_col6, #T_74ade_row12_col1, #T_74ade_row12_col6, #T_74ade_row13_col1, #T_74ade_row13_col6, #T_74ade_row14_col1, #T_74ade_row14_col6, #T_74ade_row15_col1, #T_74ade_row15_col6 {\n",
       "  font-family: Segoe UI;\n",
       "}\n",
       "#T_74ade_row0_col2, #T_74ade_row0_col3, #T_74ade_row0_col5, #T_74ade_row1_col2, #T_74ade_row1_col3, #T_74ade_row1_col5, #T_74ade_row2_col2, #T_74ade_row2_col3, #T_74ade_row2_col5, #T_74ade_row3_col2, #T_74ade_row3_col3, #T_74ade_row3_col5, #T_74ade_row4_col2, #T_74ade_row4_col3, #T_74ade_row4_col5, #T_74ade_row5_col5, #T_74ade_row6_col2, #T_74ade_row6_col3, #T_74ade_row6_col5, #T_74ade_row7_col5, #T_74ade_row8_col5, #T_74ade_row9_col2, #T_74ade_row9_col3, #T_74ade_row9_col5, #T_74ade_row10_col2, #T_74ade_row10_col3, #T_74ade_row10_col5, #T_74ade_row11_col0, #T_74ade_row11_col2, #T_74ade_row11_col3, #T_74ade_row11_col4, #T_74ade_row11_col5, #T_74ade_row12_col0, #T_74ade_row12_col4, #T_74ade_row12_col5, #T_74ade_row13_col0, #T_74ade_row13_col4, #T_74ade_row14_col0, #T_74ade_row14_col2, #T_74ade_row14_col3, #T_74ade_row14_col4, #T_74ade_row15_col0, #T_74ade_row15_col4, #T_74ade_row15_col5 {\n",
       "  background-color: #fff5f0;\n",
       "  color: #000000;\n",
       "  font-family: Segoe UI;\n",
       "}\n",
       "#T_74ade_row1_col0, #T_74ade_row1_col4 {\n",
       "  background-color: #b61319;\n",
       "  color: #f1f1f1;\n",
       "  font-family: Segoe UI;\n",
       "}\n",
       "#T_74ade_row2_col0, #T_74ade_row2_col4, #T_74ade_row3_col0, #T_74ade_row3_col4, #T_74ade_row4_col0, #T_74ade_row4_col4 {\n",
       "  background-color: #fcad90;\n",
       "  color: #000000;\n",
       "  font-family: Segoe UI;\n",
       "}\n",
       "#T_74ade_row5_col0, #T_74ade_row5_col4 {\n",
       "  background-color: #fee3d7;\n",
       "  color: #000000;\n",
       "  font-family: Segoe UI;\n",
       "}\n",
       "#T_74ade_row5_col2, #T_74ade_row5_col3, #T_74ade_row9_col0, #T_74ade_row9_col4 {\n",
       "  background-color: #fff4ee;\n",
       "  color: #000000;\n",
       "  font-family: Segoe UI;\n",
       "}\n",
       "#T_74ade_row6_col0, #T_74ade_row6_col4 {\n",
       "  background-color: #ffeee6;\n",
       "  color: #000000;\n",
       "  font-family: Segoe UI;\n",
       "}\n",
       "#T_74ade_row7_col0, #T_74ade_row7_col4, #T_74ade_row8_col0, #T_74ade_row8_col4 {\n",
       "  background-color: #fff3ed;\n",
       "  color: #000000;\n",
       "  font-family: Segoe UI;\n",
       "}\n",
       "#T_74ade_row7_col2, #T_74ade_row7_col3 {\n",
       "  background-color: #fb7757;\n",
       "  color: #f1f1f1;\n",
       "  font-family: Segoe UI;\n",
       "}\n",
       "#T_74ade_row8_col2, #T_74ade_row8_col3, #T_74ade_row13_col2, #T_74ade_row13_col3 {\n",
       "  background-color: #fed8c7;\n",
       "  color: #000000;\n",
       "  font-family: Segoe UI;\n",
       "}\n",
       "#T_74ade_row10_col0, #T_74ade_row10_col4 {\n",
       "  background-color: #fff4ef;\n",
       "  color: #000000;\n",
       "  font-family: Segoe UI;\n",
       "}\n",
       "#T_74ade_row13_col5 {\n",
       "  background-color: #f85f43;\n",
       "  color: #f1f1f1;\n",
       "  font-family: Segoe UI;\n",
       "}\n",
       "</style>\n",
       "<table id=\"T_74ade\">\n",
       "  <thead>\n",
       "    <tr>\n",
       "      <th class=\"blank level0\" >&nbsp;</th>\n",
       "      <th id=\"T_74ade_level0_col0\" class=\"col_heading level0 col0\" >Nuniques</th>\n",
       "      <th id=\"T_74ade_level0_col1\" class=\"col_heading level0 col1\" >dtype</th>\n",
       "      <th id=\"T_74ade_level0_col2\" class=\"col_heading level0 col2\" >Nulls</th>\n",
       "      <th id=\"T_74ade_level0_col3\" class=\"col_heading level0 col3\" >Nullpercent</th>\n",
       "      <th id=\"T_74ade_level0_col4\" class=\"col_heading level0 col4\" >NuniquePercent</th>\n",
       "      <th id=\"T_74ade_level0_col5\" class=\"col_heading level0 col5\" >Value counts Min</th>\n",
       "      <th id=\"T_74ade_level0_col6\" class=\"col_heading level0 col6\" >Data cleaning improvement suggestions</th>\n",
       "    </tr>\n",
       "  </thead>\n",
       "  <tbody>\n",
       "    <tr>\n",
       "      <th id=\"T_74ade_level0_row0\" class=\"row_heading level0 row0\" >timestamp</th>\n",
       "      <td id=\"T_74ade_row0_col0\" class=\"data row0 col0\" >9995</td>\n",
       "      <td id=\"T_74ade_row0_col1\" class=\"data row0 col1\" >int64</td>\n",
       "      <td id=\"T_74ade_row0_col2\" class=\"data row0 col2\" >0</td>\n",
       "      <td id=\"T_74ade_row0_col3\" class=\"data row0 col3\" >0.000000</td>\n",
       "      <td id=\"T_74ade_row0_col4\" class=\"data row0 col4\" >99.950000</td>\n",
       "      <td id=\"T_74ade_row0_col5\" class=\"data row0 col5\" >0</td>\n",
       "      <td id=\"T_74ade_row0_col6\" class=\"data row0 col6\" ></td>\n",
       "    </tr>\n",
       "    <tr>\n",
       "      <th id=\"T_74ade_level0_row1\" class=\"row_heading level0 row1\" >userId</th>\n",
       "      <td id=\"T_74ade_row1_col0\" class=\"data row1 col0\" >8193</td>\n",
       "      <td id=\"T_74ade_row1_col1\" class=\"data row1 col1\" >int64</td>\n",
       "      <td id=\"T_74ade_row1_col2\" class=\"data row1 col2\" >0</td>\n",
       "      <td id=\"T_74ade_row1_col3\" class=\"data row1 col3\" >0.000000</td>\n",
       "      <td id=\"T_74ade_row1_col4\" class=\"data row1 col4\" >81.930000</td>\n",
       "      <td id=\"T_74ade_row1_col5\" class=\"data row1 col5\" >0</td>\n",
       "      <td id=\"T_74ade_row1_col6\" class=\"data row1 col6\" ></td>\n",
       "    </tr>\n",
       "    <tr>\n",
       "      <th id=\"T_74ade_level0_row2\" class=\"row_heading level0 row2\" >movieId</th>\n",
       "      <td id=\"T_74ade_row2_col0\" class=\"data row2 col0\" >2949</td>\n",
       "      <td id=\"T_74ade_row2_col1\" class=\"data row2 col1\" >object</td>\n",
       "      <td id=\"T_74ade_row2_col2\" class=\"data row2 col2\" >0</td>\n",
       "      <td id=\"T_74ade_row2_col3\" class=\"data row2 col3\" >0.000000</td>\n",
       "      <td id=\"T_74ade_row2_col4\" class=\"data row2 col4\" >29.490000</td>\n",
       "      <td id=\"T_74ade_row2_col5\" class=\"data row2 col5\" >1</td>\n",
       "      <td id=\"T_74ade_row2_col6\" class=\"data row2 col6\" >combine rare categories</td>\n",
       "    </tr>\n",
       "    <tr>\n",
       "      <th id=\"T_74ade_level0_row3\" class=\"row_heading level0 row3\" >title</th>\n",
       "      <td id=\"T_74ade_row3_col0\" class=\"data row3 col0\" >2947</td>\n",
       "      <td id=\"T_74ade_row3_col1\" class=\"data row3 col1\" >object</td>\n",
       "      <td id=\"T_74ade_row3_col2\" class=\"data row3 col2\" >0</td>\n",
       "      <td id=\"T_74ade_row3_col3\" class=\"data row3 col3\" >0.000000</td>\n",
       "      <td id=\"T_74ade_row3_col4\" class=\"data row3 col4\" >29.470000</td>\n",
       "      <td id=\"T_74ade_row3_col5\" class=\"data row3 col5\" >1</td>\n",
       "      <td id=\"T_74ade_row3_col6\" class=\"data row3 col6\" >combine rare categories</td>\n",
       "    </tr>\n",
       "    <tr>\n",
       "      <th id=\"T_74ade_level0_row4\" class=\"row_heading level0 row4\" >description</th>\n",
       "      <td id=\"T_74ade_row4_col0\" class=\"data row4 col0\" >2935</td>\n",
       "      <td id=\"T_74ade_row4_col1\" class=\"data row4 col1\" >object</td>\n",
       "      <td id=\"T_74ade_row4_col2\" class=\"data row4 col2\" >11</td>\n",
       "      <td id=\"T_74ade_row4_col3\" class=\"data row4 col3\" >0.110000</td>\n",
       "      <td id=\"T_74ade_row4_col4\" class=\"data row4 col4\" >29.350000</td>\n",
       "      <td id=\"T_74ade_row4_col5\" class=\"data row4 col5\" >1</td>\n",
       "      <td id=\"T_74ade_row4_col6\" class=\"data row4 col6\" >combine rare categories, fill missing, fix mixed data types</td>\n",
       "    </tr>\n",
       "    <tr>\n",
       "      <th id=\"T_74ade_level0_row5\" class=\"row_heading level0 row5\" >date_added</th>\n",
       "      <td id=\"T_74ade_row5_col0\" class=\"data row5 col0\" >1093</td>\n",
       "      <td id=\"T_74ade_row5_col1\" class=\"data row5 col1\" >object</td>\n",
       "      <td id=\"T_74ade_row5_col2\" class=\"data row5 col2\" >82</td>\n",
       "      <td id=\"T_74ade_row5_col3\" class=\"data row5 col3\" >0.820000</td>\n",
       "      <td id=\"T_74ade_row5_col4\" class=\"data row5 col4\" >10.930000</td>\n",
       "      <td id=\"T_74ade_row5_col5\" class=\"data row5 col5\" >1</td>\n",
       "      <td id=\"T_74ade_row5_col6\" class=\"data row5 col6\" >combine rare categories, fill missing, fix mixed data types</td>\n",
       "    </tr>\n",
       "    <tr>\n",
       "      <th id=\"T_74ade_level0_row6\" class=\"row_heading level0 row6\" >listed_in</th>\n",
       "      <td id=\"T_74ade_row6_col0\" class=\"data row6 col0\" >435</td>\n",
       "      <td id=\"T_74ade_row6_col1\" class=\"data row6 col1\" >object</td>\n",
       "      <td id=\"T_74ade_row6_col2\" class=\"data row6 col2\" >0</td>\n",
       "      <td id=\"T_74ade_row6_col3\" class=\"data row6 col3\" >0.000000</td>\n",
       "      <td id=\"T_74ade_row6_col4\" class=\"data row6 col4\" >4.350000</td>\n",
       "      <td id=\"T_74ade_row6_col5\" class=\"data row6 col5\" >1</td>\n",
       "      <td id=\"T_74ade_row6_col6\" class=\"data row6 col6\" >combine rare categories</td>\n",
       "    </tr>\n",
       "    <tr>\n",
       "      <th id=\"T_74ade_level0_row7\" class=\"row_heading level0 row7\" >country</th>\n",
       "      <td id=\"T_74ade_row7_col0\" class=\"data row7 col0\" >147</td>\n",
       "      <td id=\"T_74ade_row7_col1\" class=\"data row7 col1\" >object</td>\n",
       "      <td id=\"T_74ade_row7_col2\" class=\"data row7 col2\" >4605</td>\n",
       "      <td id=\"T_74ade_row7_col3\" class=\"data row7 col3\" >46.050000</td>\n",
       "      <td id=\"T_74ade_row7_col4\" class=\"data row7 col4\" >1.470000</td>\n",
       "      <td id=\"T_74ade_row7_col5\" class=\"data row7 col5\" >1</td>\n",
       "      <td id=\"T_74ade_row7_col6\" class=\"data row7 col6\" >combine rare categories, fill missing, fix mixed data types</td>\n",
       "    </tr>\n",
       "    <tr>\n",
       "      <th id=\"T_74ade_level0_row8\" class=\"row_heading level0 row8\" >duration_int</th>\n",
       "      <td id=\"T_74ade_row8_col0\" class=\"data row8 col0\" >125</td>\n",
       "      <td id=\"T_74ade_row8_col1\" class=\"data row8 col1\" >object</td>\n",
       "      <td id=\"T_74ade_row8_col2\" class=\"data row8 col2\" >1547</td>\n",
       "      <td id=\"T_74ade_row8_col3\" class=\"data row8 col3\" >15.470000</td>\n",
       "      <td id=\"T_74ade_row8_col4\" class=\"data row8 col4\" >1.250000</td>\n",
       "      <td id=\"T_74ade_row8_col5\" class=\"data row8 col5\" >1</td>\n",
       "      <td id=\"T_74ade_row8_col6\" class=\"data row8 col6\" >combine rare categories, fill missing, fix mixed data types</td>\n",
       "    </tr>\n",
       "    <tr>\n",
       "      <th id=\"T_74ade_level0_row9\" class=\"row_heading level0 row9\" >classification</th>\n",
       "      <td id=\"T_74ade_row9_col0\" class=\"data row9 col0\" >85</td>\n",
       "      <td id=\"T_74ade_row9_col1\" class=\"data row9 col1\" >object</td>\n",
       "      <td id=\"T_74ade_row9_col2\" class=\"data row9 col2\" >0</td>\n",
       "      <td id=\"T_74ade_row9_col3\" class=\"data row9 col3\" >0.000000</td>\n",
       "      <td id=\"T_74ade_row9_col4\" class=\"data row9 col4\" >0.850000</td>\n",
       "      <td id=\"T_74ade_row9_col5\" class=\"data row9 col5\" >1</td>\n",
       "      <td id=\"T_74ade_row9_col6\" class=\"data row9 col6\" >combine rare categories</td>\n",
       "    </tr>\n",
       "    <tr>\n",
       "      <th id=\"T_74ade_level0_row10\" class=\"row_heading level0 row10\" >release_year</th>\n",
       "      <td id=\"T_74ade_row10_col0\" class=\"data row10 col0\" >72</td>\n",
       "      <td id=\"T_74ade_row10_col1\" class=\"data row10 col1\" >int64</td>\n",
       "      <td id=\"T_74ade_row10_col2\" class=\"data row10 col2\" >0</td>\n",
       "      <td id=\"T_74ade_row10_col3\" class=\"data row10 col3\" >0.000000</td>\n",
       "      <td id=\"T_74ade_row10_col4\" class=\"data row10 col4\" >0.720000</td>\n",
       "      <td id=\"T_74ade_row10_col5\" class=\"data row10 col5\" >0</td>\n",
       "      <td id=\"T_74ade_row10_col6\" class=\"data row10 col6\" ></td>\n",
       "    </tr>\n",
       "    <tr>\n",
       "      <th id=\"T_74ade_level0_row11\" class=\"row_heading level0 row11\" >rating</th>\n",
       "      <td id=\"T_74ade_row11_col0\" class=\"data row11 col0\" >10</td>\n",
       "      <td id=\"T_74ade_row11_col1\" class=\"data row11 col1\" >float64</td>\n",
       "      <td id=\"T_74ade_row11_col2\" class=\"data row11 col2\" >0</td>\n",
       "      <td id=\"T_74ade_row11_col3\" class=\"data row11 col3\" >0.000000</td>\n",
       "      <td id=\"T_74ade_row11_col4\" class=\"data row11 col4\" >0.100000</td>\n",
       "      <td id=\"T_74ade_row11_col5\" class=\"data row11 col5\" >0</td>\n",
       "      <td id=\"T_74ade_row11_col6\" class=\"data row11 col6\" ></td>\n",
       "    </tr>\n",
       "    <tr>\n",
       "      <th id=\"T_74ade_level0_row12\" class=\"row_heading level0 row12\" >director</th>\n",
       "      <td id=\"T_74ade_row12_col0\" class=\"data row12 col0\" >3</td>\n",
       "      <td id=\"T_74ade_row12_col1\" class=\"data row12 col1\" >object</td>\n",
       "      <td id=\"T_74ade_row12_col2\" class=\"data row12 col2\" >9989</td>\n",
       "      <td id=\"T_74ade_row12_col3\" class=\"data row12 col3\" >99.890000</td>\n",
       "      <td id=\"T_74ade_row12_col4\" class=\"data row12 col4\" >0.030000</td>\n",
       "      <td id=\"T_74ade_row12_col5\" class=\"data row12 col5\" >3</td>\n",
       "      <td id=\"T_74ade_row12_col6\" class=\"data row12 col6\" >fill missing, very high nulls percent: drop, fix mixed data types</td>\n",
       "    </tr>\n",
       "    <tr>\n",
       "      <th id=\"T_74ade_level0_row13\" class=\"row_heading level0 row13\" >duration_type</th>\n",
       "      <td id=\"T_74ade_row13_col0\" class=\"data row13 col0\" >3</td>\n",
       "      <td id=\"T_74ade_row13_col1\" class=\"data row13 col1\" >object</td>\n",
       "      <td id=\"T_74ade_row13_col2\" class=\"data row13 col2\" >1547</td>\n",
       "      <td id=\"T_74ade_row13_col3\" class=\"data row13 col3\" >15.470000</td>\n",
       "      <td id=\"T_74ade_row13_col4\" class=\"data row13 col4\" >0.030000</td>\n",
       "      <td id=\"T_74ade_row13_col5\" class=\"data row13 col5\" >2526</td>\n",
       "      <td id=\"T_74ade_row13_col6\" class=\"data row13 col6\" >fill missing, fix mixed data types</td>\n",
       "    </tr>\n",
       "    <tr>\n",
       "      <th id=\"T_74ade_level0_row14\" class=\"row_heading level0 row14\" >type</th>\n",
       "      <td id=\"T_74ade_row14_col0\" class=\"data row14 col0\" >2</td>\n",
       "      <td id=\"T_74ade_row14_col1\" class=\"data row14 col1\" >object</td>\n",
       "      <td id=\"T_74ade_row14_col2\" class=\"data row14 col2\" >0</td>\n",
       "      <td id=\"T_74ade_row14_col3\" class=\"data row14 col3\" >0.000000</td>\n",
       "      <td id=\"T_74ade_row14_col4\" class=\"data row14 col4\" >0.020000</td>\n",
       "      <td id=\"T_74ade_row14_col5\" class=\"data row14 col5\" >4770</td>\n",
       "      <td id=\"T_74ade_row14_col6\" class=\"data row14 col6\" ></td>\n",
       "    </tr>\n",
       "    <tr>\n",
       "      <th id=\"T_74ade_level0_row15\" class=\"row_heading level0 row15\" >cast</th>\n",
       "      <td id=\"T_74ade_row15_col0\" class=\"data row15 col0\" >0</td>\n",
       "      <td id=\"T_74ade_row15_col1\" class=\"data row15 col1\" >float64</td>\n",
       "      <td id=\"T_74ade_row15_col2\" class=\"data row15 col2\" >10000</td>\n",
       "      <td id=\"T_74ade_row15_col3\" class=\"data row15 col3\" >100.000000</td>\n",
       "      <td id=\"T_74ade_row15_col4\" class=\"data row15 col4\" >0.000000</td>\n",
       "      <td id=\"T_74ade_row15_col5\" class=\"data row15 col5\" >0</td>\n",
       "      <td id=\"T_74ade_row15_col6\" class=\"data row15 col6\" >fill missing, very high nulls percent: drop</td>\n",
       "    </tr>\n",
       "  </tbody>\n",
       "</table>\n"
      ],
      "text/plain": [
       "<pandas.io.formats.style.Styler at 0x2b339485130>"
      ]
     },
     "metadata": {},
     "output_type": "display_data"
    },
    {
     "name": "stdout",
     "output_type": "stream",
     "text": [
      "    16 Predictors classified...\n",
      "        2 variables removed since they were ID or low-information variables\n",
      "        List of variables removed: ['director', 'cast']\n",
      "Since Number of Rows in data 150000 exceeds maximum, randomly sampling 150000 rows for EDA...\n",
      "Could not find given target var in data set. Please check input\n",
      "Not able to read or load file. Please check your inputs and try again...\n"
     ]
    }
   ],
   "source": [
    "AV.AutoViz(filename=\"\", sep=',', depVar='target', dfte=platform_data, header=0, verbose=1, \n",
    "           lowess=False, chart_format='svg', max_rows_analyzed=150000, max_cols_analyzed=20)"
   ]
  },
  {
   "cell_type": "markdown",
   "metadata": {},
   "source": [
    "Vamos por partes:\n",
    "- La columna **cast** esta parcialmente vacia **TERRIBLE**\n",
    "- 46% de los datos no disponibles en en la columna de **country**\n",
    "- Datos mezclados en columnas directamente relacionados con los endpoints de la API"
   ]
  },
  {
   "cell_type": "code",
   "execution_count": 50,
   "metadata": {
    "tags": []
   },
   "outputs": [
    {
     "data": {
      "text/plain": [
       "movieId                 0\n",
       "type                    0\n",
       "title                   0\n",
       "director          1471380\n",
       "cast              1472788\n",
       "country            696835\n",
       "date_added          13422\n",
       "release_year            0\n",
       "classification          0\n",
       "listed_in               0\n",
       "description          1815\n",
       "duration_int       229721\n",
       "duration_type      229721\n",
       "userId                  0\n",
       "rating                  0\n",
       "timestamp               0\n",
       "dtype: int64"
      ]
     },
     "execution_count": 50,
     "metadata": {},
     "output_type": "execute_result"
    }
   ],
   "source": [
    "platform_data.isna().sum()"
   ]
  },
  {
   "cell_type": "markdown",
   "metadata": {},
   "source": [
    "El total de registros es de 1472788 y hay un total de 1472788 registros faltantes en la columna de **cast** 😰😰😰\n",
    "\n",
    "\n",
    "\n",
    "Dejemosla de lado de momento"
   ]
  },
  {
   "cell_type": "code",
   "execution_count": 51,
   "metadata": {
    "tags": []
   },
   "outputs": [
    {
     "data": {
      "text/plain": [
       "array([<NA>, 94, 108, 97, 104, 1, 88, 3, 113, 6, 87, 7, 2, 4, 84, 95, 15,\n",
       "       101, 93, 105, 12, 8, 99, 112, 124, 23, 145, 125, 157, 41, 89, 5,\n",
       "       80, 90, 116, 102, 100, 110, 114, 115, 130, 133, 91, 121, 96, 107,\n",
       "       103, 109, 98, 119, 106, 111, 118, 117, 136, 181, 182, 128, 138,\n",
       "       126, 72, 16, 20, 9, 86, 75, 144, 26, 76, 129, 83, 92, 127, 139, 79,\n",
       "       192, 131, 123, 122, 82, 10, 81, 134, 135, 170, 162, 40, 13, 45,\n",
       "       152, 85, 14, 146, 11, 161, 29, 143, 142, 63, 42, 17, 120, 77, 65,\n",
       "       70, 19, 30, 22, 149, 52, 60, 153, 151, 46, 37, 132, 67, 44, 51, 58,\n",
       "       71, 74, 78, 25, 57, 34, 54, 56], dtype=object)"
      ]
     },
     "execution_count": 51,
     "metadata": {},
     "output_type": "execute_result"
    }
   ],
   "source": [
    "platform_data['duration_int'].unique()"
   ]
  },
  {
   "cell_type": "code",
   "execution_count": 52,
   "metadata": {
    "tags": []
   },
   "outputs": [
    {
     "data": {
      "text/plain": [
       "array([None, 'min', 'season', 'seasons'], dtype=object)"
      ]
     },
     "execution_count": 52,
     "metadata": {},
     "output_type": "execute_result"
    }
   ],
   "source": [
    "platform_data['duration_type'].unique()"
   ]
  },
  {
   "cell_type": "markdown",
   "metadata": {},
   "source": [
    "Encontramos valores nulos en ambas columnas y viendo un caso similar al DataSet anterior, se reviso en la columna de **classification**"
   ]
  },
  {
   "cell_type": "code",
   "execution_count": 53,
   "metadata": {
    "tags": []
   },
   "outputs": [
    {
     "data": {
      "text/plain": [
       "array(['tv-ma', 'g', 'pg-13', 'r', 'tv-14', 'pg', 'tv-pg', 'not rated',\n",
       "       'tv-g', '2 seasons', 'tv-y', '93 min', '4 seasons', 'tv-y7',\n",
       "       '136 min', '91 min', '85 min', '98 min', '89 min', '94 min',\n",
       "       '86 min', '3 seasons', '121 min', '88 min', '101 min', '1 season',\n",
       "       '83 min', '100 min', '95 min', '92 min', '96 min', '109 min',\n",
       "       '99 min', '75 min', '87 min', '67 min', '104 min', '107 min',\n",
       "       '84 min', '103 min', '105 min', '119 min', '114 min', '82 min',\n",
       "       '90 min', '130 min', '110 min', '80 min', '6 seasons', '97 min',\n",
       "       '111 min', '81 min', '49 min', '45 min', '41 min', '73 min',\n",
       "       '40 min', '36 min', '39 min', '34 min', '47 min', '65 min',\n",
       "       '37 min', '78 min', '102 min', '129 min', '115 min', '112 min',\n",
       "       'nr', '61 min', '106 min', '76 min', '77 min', '79 min', '157 min',\n",
       "       '28 min', '64 min', '7 min', '5 min', '6 min', '127 min',\n",
       "       '142 min', '108 min', '57 min', '118 min', '116 min', '12 seasons',\n",
       "       '71 min'], dtype=object)"
      ]
     },
     "execution_count": 53,
     "metadata": {},
     "output_type": "execute_result"
    }
   ],
   "source": [
    "platform_data['classification'].unique()"
   ]
  },
  {
   "cell_type": "markdown",
   "metadata": {},
   "source": [
    "Hay que hacer el mismo proceso de reacomodación de datos que se debe utilizar en datasets anteriores"
   ]
  },
  {
   "cell_type": "code",
   "execution_count": 54,
   "metadata": {
    "tags": []
   },
   "outputs": [
    {
     "data": {
      "text/plain": [
       "country\n",
       "united states                                     440510\n",
       "japan                                             128979\n",
       "united kingdom                                     54013\n",
       "canada                                             16261\n",
       "united kingdom, united states                      12368\n",
       "                                                   ...  \n",
       "united states, united kingdom, germany, canada       437\n",
       "ireland, united kingdom, germany, sweden             435\n",
       "united states, germany, bulgaria, china              430\n",
       "australia, united kingdom                            428\n",
       "united states, ireland                               427\n",
       "Name: count, Length: 150, dtype: int64"
      ]
     },
     "execution_count": 54,
     "metadata": {},
     "output_type": "execute_result"
    }
   ],
   "source": [
    "platform_data['country'].value_counts()"
   ]
  },
  {
   "cell_type": "markdown",
   "metadata": {},
   "source": [
    "Encontramos el mismo error que en los demás datasets"
   ]
  },
  {
   "cell_type": "code",
   "execution_count": 66,
   "metadata": {
    "tags": []
   },
   "outputs": [
    {
     "name": "stdout",
     "output_type": "stream",
     "text": [
      "<class 'pandas.core.frame.DataFrame'>\n",
      "RangeIndex: 1472788 entries, 0 to 1472787\n",
      "Data columns (total 16 columns):\n",
      " #   Column          Non-Null Count    Dtype  \n",
      "---  ------          --------------    -----  \n",
      " 0   movieId         1472788 non-null  object \n",
      " 1   type            1472788 non-null  object \n",
      " 2   title           1472788 non-null  object \n",
      " 3   director        1408 non-null     object \n",
      " 4   cast            0 non-null        float64\n",
      " 5   country         775953 non-null   object \n",
      " 6   date_added      1459366 non-null  object \n",
      " 7   release_year    1472788 non-null  int64  \n",
      " 8   classification  1472788 non-null  object \n",
      " 9   listed_in       1472788 non-null  object \n",
      " 10  description     1470973 non-null  object \n",
      " 11  duration_int    1243067 non-null  object \n",
      " 12  duration_type   1243067 non-null  object \n",
      " 13  userId          1472788 non-null  int64  \n",
      " 14  rating          1472788 non-null  float64\n",
      " 15  timestamp       1472788 non-null  int64  \n",
      "dtypes: float64(2), int64(3), object(11)\n",
      "memory usage: 179.8+ MB\n"
     ]
    }
   ],
   "source": [
    "platform_data.info()"
   ]
  },
  {
   "cell_type": "code",
   "execution_count": 72,
   "metadata": {
    "tags": []
   },
   "outputs": [
    {
     "data": {
      "text/plain": [
       "array(['october 24, 2021', 'october 23, 2021', 'october 22, 2021', ...,\n",
       "       'june 1, 2008', 'july 14, 2006', None], dtype=object)"
      ]
     },
     "execution_count": 72,
     "metadata": {},
     "output_type": "execute_result"
    }
   ],
   "source": [
    "platform_data['date_added'].value_counts()\n",
    "platform_data['date_added'].unique()"
   ]
  },
  {
   "cell_type": "code",
   "execution_count": 55,
   "metadata": {
    "tags": []
   },
   "outputs": [
    {
     "data": {
      "text/plain": [
       "array(['movie', 'tv show'], dtype=object)"
      ]
     },
     "execution_count": 55,
     "metadata": {},
     "output_type": "execute_result"
    }
   ],
   "source": [
    "platform_data['type'].unique()"
   ]
  },
  {
   "cell_type": "code",
   "execution_count": 65,
   "metadata": {
    "tags": []
   },
   "outputs": [
    {
     "name": "stdout",
     "output_type": "stream",
     "text": [
      "[None\n",
      " 'director jennifer kent (\"the babadook\") tells the sweeping tale of a young woman\\'s quest for revenge set in 1825 against the perilous and unforgiving terrain of tasmania.'\n",
      " 'director gigi saul guerrero talks through culture shock’s themes – immigration, filmmaking, and latinidad – in this one-on-one chat.'\n",
      " 'director alex winter goes inside the biggest global corruption scandal in history that was uncovered by hundreds of journalists, working in secret and at enormous risk.']\n",
      "\n",
      "Cantidad de registros unicos en la columna director: 4\n"
     ]
    }
   ],
   "source": [
    "print(platform_data['director'].unique())\n",
    "print()\n",
    "print('Cantidad de registros unicos en la columna director:',len(platform_data['director'].unique()))"
   ]
  },
  {
   "cell_type": "markdown",
   "metadata": {},
   "source": [
    "Encontramos 4 tipos de valores diferentes en la columna de director, los cuales nombran a directores, pero incluyendo polémicas a las que están ligados. (?)"
   ]
  },
  {
   "cell_type": "markdown",
   "metadata": {},
   "source": [
    "Retomando la búsqueda de los actores, no se pudo identificar si esta información estaba mal digitada en otra columna o en otra registro. Esto permite concluir que es información sensible perdida. **HABLAR CON EL CLIENTE**."
   ]
  },
  {
   "cell_type": "markdown",
   "metadata": {},
   "source": [
    "### CONCLUSIONES"
   ]
  },
  {
   "cell_type": "markdown",
   "metadata": {},
   "source": [
    "El análisis exploratorio de los datos es un proceso muy importante para la identificación y facilitación del proceso ETL sobre las bases de datos que llegan al científico de datos. Gracias a esto, pudimos identificar los diferentes errores que existen en los datasets, además de permitirnos solucionar algunas dudas sobre qué hacer con los valores faltantes (dilema de cada proyecto), si debo rellenarlos con otra información o directamente eliminar los registros.\n",
    "\n",
    "Este proceso también nos permitió identificar errores groseros como el caso de la columna de \"cast\" en la plataforma de **HULU** y la detección de outliers como la diferencia de duración de los diferentes contenidos de las plataformas.\n",
    "\n",
    "En conclusión, gracias al EDA podemos reducir dolores de cabeza inmensos que pueden retrasar el objetivo del trabajo."
   ]
  },
  {
   "cell_type": "code",
   "execution_count": null,
   "metadata": {},
   "outputs": [],
   "source": []
  }
 ],
 "metadata": {
  "kernelspec": {
   "display_name": "Python 3 (ipykernel)",
   "language": "python",
   "name": "python3"
  },
  "language_info": {
   "codemirror_mode": {
    "name": "ipython",
    "version": 3
   },
   "file_extension": ".py",
   "mimetype": "text/x-python",
   "name": "python",
   "nbconvert_exporter": "python",
   "pygments_lexer": "ipython3",
   "version": "3.10.11"
  }
 },
 "nbformat": 4,
 "nbformat_minor": 4
}
